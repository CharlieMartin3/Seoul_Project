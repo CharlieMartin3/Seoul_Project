{
  "nbformat": 4,
  "nbformat_minor": 0,
  "metadata": {
    "colab": {
      "name": "Modeling.ipynb",
      "provenance": [],
      "collapsed_sections": []
    },
    "kernelspec": {
      "name": "python3",
      "display_name": "Python 3"
    },
    "language_info": {
      "name": "python"
    }
  },
  "cells": [
    {
      "cell_type": "code",
      "metadata": {
        "id": "jSMNXuXdXI3_"
      },
      "source": [
        "import pandas as pd\n",
        "import numpy as np\n",
        "import matplotlib.pyplot as plt\n",
        "import seaborn as sns\n",
        "import datetime as dt\n",
        "from sklearn.model_selection import train_test_split\n",
        "from sklearn.preprocessing import StandardScaler\n",
        "from sklearn.linear_model import LinearRegression\n",
        "from sklearn.metrics import mean_squared_error\n",
        "from pandas.plotting import scatter_matrix\n",
        "from sklearn.decomposition import PCA\n",
        "from sklearn.tree import DecisionTreeRegressor\n",
        "from sklearn.model_selection import cross_val_score\n",
        "from sklearn.preprocessing import MinMaxScaler\n",
        "from sklearn.preprocessing import FunctionTransformer\n",
        "from sklearn.linear_model import ElasticNet\n",
        "from sklearn.model_selection import GridSearchCV\n",
        "from sklearn.model_selection import TimeSeriesSplit\n",
        "from datetime import datetime\n",
        "from datetime import timedelta\n",
        "from sklearn.metrics import r2_score\n",
        "from sklearn.ensemble import RandomForestRegressor"
      ],
      "execution_count": null,
      "outputs": []
    },
    {
      "cell_type": "code",
      "metadata": {
        "colab": {
          "base_uri": "https://localhost:8080/",
          "height": 206
        },
        "id": "xVhprdJG-CVs",
        "outputId": "6432fdc1-8bb6-4bbc-a6f5-14ea61e04e1d"
      },
      "source": [
        "#import des données\n",
        "sbdata = pd.read_csv(\"https://archive.ics.uci.edu/ml/machine-learning-databases/00560/SeoulBikeData.csv\", encoding= \"unicode_escape\")\n",
        "sbdata.head()"
      ],
      "execution_count": null,
      "outputs": [
        {
          "output_type": "execute_result",
          "data": {
            "text/html": [
              "\n",
              "  <div id=\"df-d40398f2-8de6-4c36-850f-75bad399899d\">\n",
              "    <div class=\"colab-df-container\">\n",
              "      <div>\n",
              "<style scoped>\n",
              "    .dataframe tbody tr th:only-of-type {\n",
              "        vertical-align: middle;\n",
              "    }\n",
              "\n",
              "    .dataframe tbody tr th {\n",
              "        vertical-align: top;\n",
              "    }\n",
              "\n",
              "    .dataframe thead th {\n",
              "        text-align: right;\n",
              "    }\n",
              "</style>\n",
              "<table border=\"1\" class=\"dataframe\">\n",
              "  <thead>\n",
              "    <tr style=\"text-align: right;\">\n",
              "      <th></th>\n",
              "      <th>Date</th>\n",
              "      <th>Rented Bike Count</th>\n",
              "      <th>Hour</th>\n",
              "      <th>Temperature(°C)</th>\n",
              "      <th>Humidity(%)</th>\n",
              "      <th>Wind speed (m/s)</th>\n",
              "      <th>Visibility (10m)</th>\n",
              "      <th>Dew point temperature(°C)</th>\n",
              "      <th>Solar Radiation (MJ/m2)</th>\n",
              "      <th>Rainfall(mm)</th>\n",
              "      <th>Snowfall (cm)</th>\n",
              "      <th>Seasons</th>\n",
              "      <th>Holiday</th>\n",
              "      <th>Functioning Day</th>\n",
              "    </tr>\n",
              "  </thead>\n",
              "  <tbody>\n",
              "    <tr>\n",
              "      <th>0</th>\n",
              "      <td>01/12/2017</td>\n",
              "      <td>254</td>\n",
              "      <td>0</td>\n",
              "      <td>-5.2</td>\n",
              "      <td>37</td>\n",
              "      <td>2.2</td>\n",
              "      <td>2000</td>\n",
              "      <td>-17.6</td>\n",
              "      <td>0.0</td>\n",
              "      <td>0.0</td>\n",
              "      <td>0.0</td>\n",
              "      <td>Winter</td>\n",
              "      <td>No Holiday</td>\n",
              "      <td>Yes</td>\n",
              "    </tr>\n",
              "    <tr>\n",
              "      <th>1</th>\n",
              "      <td>01/12/2017</td>\n",
              "      <td>204</td>\n",
              "      <td>1</td>\n",
              "      <td>-5.5</td>\n",
              "      <td>38</td>\n",
              "      <td>0.8</td>\n",
              "      <td>2000</td>\n",
              "      <td>-17.6</td>\n",
              "      <td>0.0</td>\n",
              "      <td>0.0</td>\n",
              "      <td>0.0</td>\n",
              "      <td>Winter</td>\n",
              "      <td>No Holiday</td>\n",
              "      <td>Yes</td>\n",
              "    </tr>\n",
              "    <tr>\n",
              "      <th>2</th>\n",
              "      <td>01/12/2017</td>\n",
              "      <td>173</td>\n",
              "      <td>2</td>\n",
              "      <td>-6.0</td>\n",
              "      <td>39</td>\n",
              "      <td>1.0</td>\n",
              "      <td>2000</td>\n",
              "      <td>-17.7</td>\n",
              "      <td>0.0</td>\n",
              "      <td>0.0</td>\n",
              "      <td>0.0</td>\n",
              "      <td>Winter</td>\n",
              "      <td>No Holiday</td>\n",
              "      <td>Yes</td>\n",
              "    </tr>\n",
              "    <tr>\n",
              "      <th>3</th>\n",
              "      <td>01/12/2017</td>\n",
              "      <td>107</td>\n",
              "      <td>3</td>\n",
              "      <td>-6.2</td>\n",
              "      <td>40</td>\n",
              "      <td>0.9</td>\n",
              "      <td>2000</td>\n",
              "      <td>-17.6</td>\n",
              "      <td>0.0</td>\n",
              "      <td>0.0</td>\n",
              "      <td>0.0</td>\n",
              "      <td>Winter</td>\n",
              "      <td>No Holiday</td>\n",
              "      <td>Yes</td>\n",
              "    </tr>\n",
              "    <tr>\n",
              "      <th>4</th>\n",
              "      <td>01/12/2017</td>\n",
              "      <td>78</td>\n",
              "      <td>4</td>\n",
              "      <td>-6.0</td>\n",
              "      <td>36</td>\n",
              "      <td>2.3</td>\n",
              "      <td>2000</td>\n",
              "      <td>-18.6</td>\n",
              "      <td>0.0</td>\n",
              "      <td>0.0</td>\n",
              "      <td>0.0</td>\n",
              "      <td>Winter</td>\n",
              "      <td>No Holiday</td>\n",
              "      <td>Yes</td>\n",
              "    </tr>\n",
              "  </tbody>\n",
              "</table>\n",
              "</div>\n",
              "      <button class=\"colab-df-convert\" onclick=\"convertToInteractive('df-d40398f2-8de6-4c36-850f-75bad399899d')\"\n",
              "              title=\"Convert this dataframe to an interactive table.\"\n",
              "              style=\"display:none;\">\n",
              "        \n",
              "  <svg xmlns=\"http://www.w3.org/2000/svg\" height=\"24px\"viewBox=\"0 0 24 24\"\n",
              "       width=\"24px\">\n",
              "    <path d=\"M0 0h24v24H0V0z\" fill=\"none\"/>\n",
              "    <path d=\"M18.56 5.44l.94 2.06.94-2.06 2.06-.94-2.06-.94-.94-2.06-.94 2.06-2.06.94zm-11 1L8.5 8.5l.94-2.06 2.06-.94-2.06-.94L8.5 2.5l-.94 2.06-2.06.94zm10 10l.94 2.06.94-2.06 2.06-.94-2.06-.94-.94-2.06-.94 2.06-2.06.94z\"/><path d=\"M17.41 7.96l-1.37-1.37c-.4-.4-.92-.59-1.43-.59-.52 0-1.04.2-1.43.59L10.3 9.45l-7.72 7.72c-.78.78-.78 2.05 0 2.83L4 21.41c.39.39.9.59 1.41.59.51 0 1.02-.2 1.41-.59l7.78-7.78 2.81-2.81c.8-.78.8-2.07 0-2.86zM5.41 20L4 18.59l7.72-7.72 1.47 1.35L5.41 20z\"/>\n",
              "  </svg>\n",
              "      </button>\n",
              "      \n",
              "  <style>\n",
              "    .colab-df-container {\n",
              "      display:flex;\n",
              "      flex-wrap:wrap;\n",
              "      gap: 12px;\n",
              "    }\n",
              "\n",
              "    .colab-df-convert {\n",
              "      background-color: #E8F0FE;\n",
              "      border: none;\n",
              "      border-radius: 50%;\n",
              "      cursor: pointer;\n",
              "      display: none;\n",
              "      fill: #1967D2;\n",
              "      height: 32px;\n",
              "      padding: 0 0 0 0;\n",
              "      width: 32px;\n",
              "    }\n",
              "\n",
              "    .colab-df-convert:hover {\n",
              "      background-color: #E2EBFA;\n",
              "      box-shadow: 0px 1px 2px rgba(60, 64, 67, 0.3), 0px 1px 3px 1px rgba(60, 64, 67, 0.15);\n",
              "      fill: #174EA6;\n",
              "    }\n",
              "\n",
              "    [theme=dark] .colab-df-convert {\n",
              "      background-color: #3B4455;\n",
              "      fill: #D2E3FC;\n",
              "    }\n",
              "\n",
              "    [theme=dark] .colab-df-convert:hover {\n",
              "      background-color: #434B5C;\n",
              "      box-shadow: 0px 1px 3px 1px rgba(0, 0, 0, 0.15);\n",
              "      filter: drop-shadow(0px 1px 2px rgba(0, 0, 0, 0.3));\n",
              "      fill: #FFFFFF;\n",
              "    }\n",
              "  </style>\n",
              "\n",
              "      <script>\n",
              "        const buttonEl =\n",
              "          document.querySelector('#df-d40398f2-8de6-4c36-850f-75bad399899d button.colab-df-convert');\n",
              "        buttonEl.style.display =\n",
              "          google.colab.kernel.accessAllowed ? 'block' : 'none';\n",
              "\n",
              "        async function convertToInteractive(key) {\n",
              "          const element = document.querySelector('#df-d40398f2-8de6-4c36-850f-75bad399899d');\n",
              "          const dataTable =\n",
              "            await google.colab.kernel.invokeFunction('convertToInteractive',\n",
              "                                                     [key], {});\n",
              "          if (!dataTable) return;\n",
              "\n",
              "          const docLinkHtml = 'Like what you see? Visit the ' +\n",
              "            '<a target=\"_blank\" href=https://colab.research.google.com/notebooks/data_table.ipynb>data table notebook</a>'\n",
              "            + ' to learn more about interactive tables.';\n",
              "          element.innerHTML = '';\n",
              "          dataTable['output_type'] = 'display_data';\n",
              "          await google.colab.output.renderOutput(dataTable, element);\n",
              "          const docLink = document.createElement('div');\n",
              "          docLink.innerHTML = docLinkHtml;\n",
              "          element.appendChild(docLink);\n",
              "        }\n",
              "      </script>\n",
              "    </div>\n",
              "  </div>\n",
              "  "
            ],
            "text/plain": [
              "         Date  Rented Bike Count  Hour  ...  Seasons     Holiday  Functioning Day\n",
              "0  01/12/2017                254     0  ...   Winter  No Holiday              Yes\n",
              "1  01/12/2017                204     1  ...   Winter  No Holiday              Yes\n",
              "2  01/12/2017                173     2  ...   Winter  No Holiday              Yes\n",
              "3  01/12/2017                107     3  ...   Winter  No Holiday              Yes\n",
              "4  01/12/2017                 78     4  ...   Winter  No Holiday              Yes\n",
              "\n",
              "[5 rows x 14 columns]"
            ]
          },
          "metadata": {},
          "execution_count": 2
        }
      ]
    },
    {
      "cell_type": "markdown",
      "metadata": {
        "id": "u2a8JDDEXfU4"
      },
      "source": [
        "Premier traitement des données"
      ]
    },
    {
      "cell_type": "markdown",
      "source": [
        "Traitement Des Données Brut, juste pour les rendres utilisables."
      ],
      "metadata": {
        "id": "lDghPaDCSVbj"
      }
    },
    {
      "cell_type": "code",
      "metadata": {
        "colab": {
          "base_uri": "https://localhost:8080/",
          "height": 224
        },
        "id": "czIwNEbmXicy",
        "outputId": "e33268c4-8219-45bc-e4a5-c2be4bcf4d31"
      },
      "source": [
        "#copie les données\n",
        "df = pd.DataFrame(sbdata.copy())\n",
        "\n",
        "#transforme holiday et functioning day en binaire\n",
        "df['Holiday'] = [1 if x=='Holiday' else 0 for x in df['Holiday'] ]\n",
        "df['Functioning Day'] = [1 if x=='Yes' else 0 for x in df['Functioning Day'] ]\n",
        "\n",
        "#divise seasons en 4 colonnes binaires pour chaque saisons\n",
        "seasons = pd.get_dummies(df['Seasons'])\n",
        "df = df.drop('Seasons', axis=1)\n",
        "df = pd.concat([df, seasons], axis=1)\n",
        "\n",
        "#convertit la date en valeur numérique\n",
        "df['Date'] = pd.to_datetime(df['Date'])\n",
        "df['Date'] = df['Date'].map(dt.datetime.toordinal)\n",
        "\n",
        "df.head()"
      ],
      "execution_count": null,
      "outputs": [
        {
          "output_type": "execute_result",
          "data": {
            "text/html": [
              "<div>\n",
              "<style scoped>\n",
              "    .dataframe tbody tr th:only-of-type {\n",
              "        vertical-align: middle;\n",
              "    }\n",
              "\n",
              "    .dataframe tbody tr th {\n",
              "        vertical-align: top;\n",
              "    }\n",
              "\n",
              "    .dataframe thead th {\n",
              "        text-align: right;\n",
              "    }\n",
              "</style>\n",
              "<table border=\"1\" class=\"dataframe\">\n",
              "  <thead>\n",
              "    <tr style=\"text-align: right;\">\n",
              "      <th></th>\n",
              "      <th>Date</th>\n",
              "      <th>Rented Bike Count</th>\n",
              "      <th>Hour</th>\n",
              "      <th>Temperature(°C)</th>\n",
              "      <th>Humidity(%)</th>\n",
              "      <th>Wind speed (m/s)</th>\n",
              "      <th>Visibility (10m)</th>\n",
              "      <th>Dew point temperature(°C)</th>\n",
              "      <th>Solar Radiation (MJ/m2)</th>\n",
              "      <th>Rainfall(mm)</th>\n",
              "      <th>Snowfall (cm)</th>\n",
              "      <th>Holiday</th>\n",
              "      <th>Functioning Day</th>\n",
              "      <th>Autumn</th>\n",
              "      <th>Spring</th>\n",
              "      <th>Summer</th>\n",
              "      <th>Winter</th>\n",
              "    </tr>\n",
              "  </thead>\n",
              "  <tbody>\n",
              "    <tr>\n",
              "      <th>0</th>\n",
              "      <td>736341</td>\n",
              "      <td>254</td>\n",
              "      <td>0</td>\n",
              "      <td>-5.2</td>\n",
              "      <td>37</td>\n",
              "      <td>2.2</td>\n",
              "      <td>2000</td>\n",
              "      <td>-17.6</td>\n",
              "      <td>0.0</td>\n",
              "      <td>0.0</td>\n",
              "      <td>0.0</td>\n",
              "      <td>0</td>\n",
              "      <td>1</td>\n",
              "      <td>0</td>\n",
              "      <td>0</td>\n",
              "      <td>0</td>\n",
              "      <td>1</td>\n",
              "    </tr>\n",
              "    <tr>\n",
              "      <th>1</th>\n",
              "      <td>736341</td>\n",
              "      <td>204</td>\n",
              "      <td>1</td>\n",
              "      <td>-5.5</td>\n",
              "      <td>38</td>\n",
              "      <td>0.8</td>\n",
              "      <td>2000</td>\n",
              "      <td>-17.6</td>\n",
              "      <td>0.0</td>\n",
              "      <td>0.0</td>\n",
              "      <td>0.0</td>\n",
              "      <td>0</td>\n",
              "      <td>1</td>\n",
              "      <td>0</td>\n",
              "      <td>0</td>\n",
              "      <td>0</td>\n",
              "      <td>1</td>\n",
              "    </tr>\n",
              "    <tr>\n",
              "      <th>2</th>\n",
              "      <td>736341</td>\n",
              "      <td>173</td>\n",
              "      <td>2</td>\n",
              "      <td>-6.0</td>\n",
              "      <td>39</td>\n",
              "      <td>1.0</td>\n",
              "      <td>2000</td>\n",
              "      <td>-17.7</td>\n",
              "      <td>0.0</td>\n",
              "      <td>0.0</td>\n",
              "      <td>0.0</td>\n",
              "      <td>0</td>\n",
              "      <td>1</td>\n",
              "      <td>0</td>\n",
              "      <td>0</td>\n",
              "      <td>0</td>\n",
              "      <td>1</td>\n",
              "    </tr>\n",
              "    <tr>\n",
              "      <th>3</th>\n",
              "      <td>736341</td>\n",
              "      <td>107</td>\n",
              "      <td>3</td>\n",
              "      <td>-6.2</td>\n",
              "      <td>40</td>\n",
              "      <td>0.9</td>\n",
              "      <td>2000</td>\n",
              "      <td>-17.6</td>\n",
              "      <td>0.0</td>\n",
              "      <td>0.0</td>\n",
              "      <td>0.0</td>\n",
              "      <td>0</td>\n",
              "      <td>1</td>\n",
              "      <td>0</td>\n",
              "      <td>0</td>\n",
              "      <td>0</td>\n",
              "      <td>1</td>\n",
              "    </tr>\n",
              "    <tr>\n",
              "      <th>4</th>\n",
              "      <td>736341</td>\n",
              "      <td>78</td>\n",
              "      <td>4</td>\n",
              "      <td>-6.0</td>\n",
              "      <td>36</td>\n",
              "      <td>2.3</td>\n",
              "      <td>2000</td>\n",
              "      <td>-18.6</td>\n",
              "      <td>0.0</td>\n",
              "      <td>0.0</td>\n",
              "      <td>0.0</td>\n",
              "      <td>0</td>\n",
              "      <td>1</td>\n",
              "      <td>0</td>\n",
              "      <td>0</td>\n",
              "      <td>0</td>\n",
              "      <td>1</td>\n",
              "    </tr>\n",
              "  </tbody>\n",
              "</table>\n",
              "</div>"
            ],
            "text/plain": [
              "     Date  Rented Bike Count  Hour  ...  Spring  Summer  Winter\n",
              "0  736341                254     0  ...       0       0       1\n",
              "1  736341                204     1  ...       0       0       1\n",
              "2  736341                173     2  ...       0       0       1\n",
              "3  736341                107     3  ...       0       0       1\n",
              "4  736341                 78     4  ...       0       0       1\n",
              "\n",
              "[5 rows x 17 columns]"
            ]
          },
          "metadata": {},
          "execution_count": 3
        }
      ]
    },
    {
      "cell_type": "code",
      "metadata": {
        "id": "ApCS1cqHb4Fz",
        "colab": {
          "base_uri": "https://localhost:8080/"
        },
        "outputId": "8df4d91d-5e05-4284-89e3-f02117f4a50c"
      },
      "source": [
        "#Choix des colonnes\n",
        "X = np.concatenate((df.iloc[:, [0]].values, df.iloc[:, 2:].values), axis=1)\n",
        "Y = df.iloc[:, [1]].values\n",
        "\n",
        "#Séparation du dataset en entrainement et en test\n",
        "from sklearn.model_selection import train_test_split\n",
        "X_train, X_test, Y_train, Y_test = train_test_split(X, Y, test_size=0.25, random_state=0)"
      ],
      "execution_count": null,
      "outputs": [
        {
          "output_type": "execute_result",
          "data": {
            "text/plain": [
              "array([[736341],\n",
              "       [736341],\n",
              "       [736341],\n",
              "       ...,\n",
              "       [737028],\n",
              "       [737028],\n",
              "       [737028]])"
            ]
          },
          "metadata": {},
          "execution_count": 94
        }
      ]
    },
    {
      "cell_type": "code",
      "metadata": {
        "id": "SUPm9zoMb9lG"
      },
      "source": [
        "#Mise à l'échelle\n",
        "from sklearn.preprocessing import StandardScaler\n",
        "sc =  StandardScaler()\n",
        "X_train = sc.fit_transform(X_train)\n",
        "X_test = sc.fit_transform(X_test)"
      ],
      "execution_count": null,
      "outputs": []
    },
    {
      "cell_type": "markdown",
      "metadata": {
        "id": "vCXwtK0uZUT4"
      },
      "source": [
        "Première régression linéaire"
      ]
    },
    {
      "cell_type": "code",
      "metadata": {
        "colab": {
          "base_uri": "https://localhost:8080/"
        },
        "id": "62xvXgZXZZxG",
        "outputId": "7c75341d-02ac-4379-a881-93be01bcd17f"
      },
      "source": [
        "# Fit regression model\n",
        "from sklearn.linear_model import LinearRegression\n",
        "lr = LinearRegression().fit(X_train, Y_train)\n",
        "lr.coef_\n",
        "\n",
        "# Predict\n",
        "Y_prediction = lr.predict(X_test)\n",
        "\n",
        "from sklearn.metrics import r2_score\n",
        "from sklearn.metrics import mean_squared_error\n",
        "score = r2_score(Y_test, Y_prediction)\n",
        "print(\"r2 score is \", score)\n",
        "print(\"mean_sqrd_error is==\", mean_squared_error(Y_test, Y_prediction))\n",
        "print(\"root_mean_squared error of is==\", np.sqrt(mean_squared_error(Y_test, Y_prediction)))"
      ],
      "execution_count": null,
      "outputs": [
        {
          "output_type": "stream",
          "name": "stdout",
          "text": [
            "r2 score is  0.5473184289106814\n",
            "mean_sqrd_error is== 188817.89486509844\n",
            "root_mean_squared error of is== 434.53181110834504\n"
          ]
        }
      ]
    },
    {
      "cell_type": "markdown",
      "metadata": {
        "id": "pNDFIWScay4e"
      },
      "source": [
        "Premier regression tree"
      ]
    },
    {
      "cell_type": "code",
      "metadata": {
        "colab": {
          "base_uri": "https://localhost:8080/"
        },
        "id": "_MysFLvZa0hL",
        "outputId": "dba6afbd-f7a7-4052-93c9-93e178afb883"
      },
      "source": [
        "# Fit regression model\n",
        "regr = DecisionTreeRegressor(max_depth=10)\n",
        "regr.fit(X_train, Y_train)\n",
        "\n",
        "# Predict\n",
        "Y_prediction = regr.predict(X_test)\n",
        "\n",
        "from sklearn.metrics import r2_score\n",
        "from sklearn.metrics import mean_squared_error\n",
        "score = r2_score(Y_test, Y_prediction)\n",
        "print(\"r2 score is \", score)\n",
        "print(\"mean_sqrd_error is==\", mean_squared_error(Y_test, Y_prediction))\n",
        "print(\"root_mean_squared error of is==\", np.sqrt(mean_squared_error(Y_test, Y_prediction)))"
      ],
      "execution_count": null,
      "outputs": [
        {
          "output_type": "stream",
          "name": "stdout",
          "text": [
            "r2 score is  0.8036434107334396\n",
            "mean_sqrd_error is== 81902.24695691736\n",
            "root_mean_squared error of is== 286.18568614960003\n"
          ]
        }
      ]
    },
    {
      "cell_type": "markdown",
      "metadata": {
        "id": "MOl5jeJpYhdg"
      },
      "source": [
        "Deuxième traitement des données"
      ]
    },
    {
      "cell_type": "markdown",
      "source": [
        "Traitement de données avec la prise en compte du lag. Pour chaque observation on lui attribut les valeurs des 168h précédentes (cad 1 semaine). De plus on choisit de prendre le début de journée à 6h, la nuit étant la fin de la journée précédente."
      ],
      "metadata": {
        "id": "-eOwLTZiStKO"
      }
    },
    {
      "cell_type": "code",
      "metadata": {
        "colab": {
          "base_uri": "https://localhost:8080/",
          "height": 322
        },
        "id": "nsmzYBy0YmdZ",
        "outputId": "3d04be79-c38c-4b51-9e4b-74384fa764f0"
      },
      "source": [
        "df = pd.DataFrame(sbdata.copy())\n",
        "\n",
        "#change le format de la date et la passe en index\n",
        "df['Date'] = pd.to_datetime(df['Date'], format='%d/%m/%Y')\n",
        "df.set_index('Date', inplace = True)\n",
        "df.rename(columns={'Rented Bike Count': 'Y'}, inplace=True)\n",
        "\n",
        "#on commence la dataset au premier lundi\n",
        "df = df[datetime(2017,12,4):datetime(2017,12,4)+timedelta(7*4*7)]\n",
        "#on ajoute du lag pour dépendre des heures précédentes\n",
        "for i in range(6, 7*24):\n",
        "    df[\"lag_{}\".format(i)] = df['Y'].shift(i)\n",
        "\n",
        "df['Holiday'] = [1 if x=='Holiday' else 0 for x in df['Holiday'] ]\n",
        "df['Functioning Day'] = [1 if x=='Yes' else 0 for x in df['Functioning Day'] ]\n",
        "df['Weekday'] = pd.Categorical(pd.Series(df.index).dt.day_name(), categories=['Monday', 'Tuesday', \n",
        "             'Wednesday', 'Thursday', 'Friday', 'Saturday', 'Sunday'], ordered=True)\n",
        "df['Weekend'] = (df['Weekday'].cat.codes >= 5).astype(int)\n",
        "#df['Hour'] = pd.Series(pd.Series(df.index).dt.hour.values, index= df.index)\n",
        "\n",
        "#les données temporelles sont des données cycliques, on peut donc les insérer avec leur sin et cos\n",
        "df['Hour_sin'] = np.sin(df['Hour']*(2.*np.pi/24))\n",
        "df['Hour_cos'] = np.cos(df['Hour']*(2.*np.pi/24))\n",
        "df['Weekday_sin'] = np.sin(df['Weekday'].cat.codes*(2.*np.pi/7))\n",
        "df['Weekday_cos'] = np.cos(df['Weekday'].cat.codes*(2.*np.pi/7))\n",
        "df.drop(['Hour', 'Seasons', 'Weekday'], axis=1, inplace=True)\n",
        "\n",
        "#on enlève la première semaine pour éviter les NaN des lags\n",
        "df = df.iloc[24*7:]\n",
        "df.head()"
      ],
      "execution_count": null,
      "outputs": [
        {
          "output_type": "execute_result",
          "data": {
            "text/html": [
              "<div>\n",
              "<style scoped>\n",
              "    .dataframe tbody tr th:only-of-type {\n",
              "        vertical-align: middle;\n",
              "    }\n",
              "\n",
              "    .dataframe tbody tr th {\n",
              "        vertical-align: top;\n",
              "    }\n",
              "\n",
              "    .dataframe thead th {\n",
              "        text-align: right;\n",
              "    }\n",
              "</style>\n",
              "<table border=\"1\" class=\"dataframe\">\n",
              "  <thead>\n",
              "    <tr style=\"text-align: right;\">\n",
              "      <th></th>\n",
              "      <th>Y</th>\n",
              "      <th>Temperature(°C)</th>\n",
              "      <th>Humidity(%)</th>\n",
              "      <th>Wind speed (m/s)</th>\n",
              "      <th>Visibility (10m)</th>\n",
              "      <th>Dew point temperature(°C)</th>\n",
              "      <th>Solar Radiation (MJ/m2)</th>\n",
              "      <th>Rainfall(mm)</th>\n",
              "      <th>Snowfall (cm)</th>\n",
              "      <th>Holiday</th>\n",
              "      <th>Functioning Day</th>\n",
              "      <th>lag_6</th>\n",
              "      <th>lag_7</th>\n",
              "      <th>lag_8</th>\n",
              "      <th>lag_9</th>\n",
              "      <th>lag_10</th>\n",
              "      <th>lag_11</th>\n",
              "      <th>lag_12</th>\n",
              "      <th>lag_13</th>\n",
              "      <th>lag_14</th>\n",
              "      <th>lag_15</th>\n",
              "      <th>lag_16</th>\n",
              "      <th>lag_17</th>\n",
              "      <th>lag_18</th>\n",
              "      <th>lag_19</th>\n",
              "      <th>lag_20</th>\n",
              "      <th>lag_21</th>\n",
              "      <th>lag_22</th>\n",
              "      <th>lag_23</th>\n",
              "      <th>lag_24</th>\n",
              "      <th>lag_25</th>\n",
              "      <th>lag_26</th>\n",
              "      <th>lag_27</th>\n",
              "      <th>lag_28</th>\n",
              "      <th>lag_29</th>\n",
              "      <th>lag_30</th>\n",
              "      <th>lag_31</th>\n",
              "      <th>lag_32</th>\n",
              "      <th>lag_33</th>\n",
              "      <th>lag_34</th>\n",
              "      <th>...</th>\n",
              "      <th>lag_133</th>\n",
              "      <th>lag_134</th>\n",
              "      <th>lag_135</th>\n",
              "      <th>lag_136</th>\n",
              "      <th>lag_137</th>\n",
              "      <th>lag_138</th>\n",
              "      <th>lag_139</th>\n",
              "      <th>lag_140</th>\n",
              "      <th>lag_141</th>\n",
              "      <th>lag_142</th>\n",
              "      <th>lag_143</th>\n",
              "      <th>lag_144</th>\n",
              "      <th>lag_145</th>\n",
              "      <th>lag_146</th>\n",
              "      <th>lag_147</th>\n",
              "      <th>lag_148</th>\n",
              "      <th>lag_149</th>\n",
              "      <th>lag_150</th>\n",
              "      <th>lag_151</th>\n",
              "      <th>lag_152</th>\n",
              "      <th>lag_153</th>\n",
              "      <th>lag_154</th>\n",
              "      <th>lag_155</th>\n",
              "      <th>lag_156</th>\n",
              "      <th>lag_157</th>\n",
              "      <th>lag_158</th>\n",
              "      <th>lag_159</th>\n",
              "      <th>lag_160</th>\n",
              "      <th>lag_161</th>\n",
              "      <th>lag_162</th>\n",
              "      <th>lag_163</th>\n",
              "      <th>lag_164</th>\n",
              "      <th>lag_165</th>\n",
              "      <th>lag_166</th>\n",
              "      <th>lag_167</th>\n",
              "      <th>Weekend</th>\n",
              "      <th>Hour_sin</th>\n",
              "      <th>Hour_cos</th>\n",
              "      <th>Weekday_sin</th>\n",
              "      <th>Weekday_cos</th>\n",
              "    </tr>\n",
              "    <tr>\n",
              "      <th>Date</th>\n",
              "      <th></th>\n",
              "      <th></th>\n",
              "      <th></th>\n",
              "      <th></th>\n",
              "      <th></th>\n",
              "      <th></th>\n",
              "      <th></th>\n",
              "      <th></th>\n",
              "      <th></th>\n",
              "      <th></th>\n",
              "      <th></th>\n",
              "      <th></th>\n",
              "      <th></th>\n",
              "      <th></th>\n",
              "      <th></th>\n",
              "      <th></th>\n",
              "      <th></th>\n",
              "      <th></th>\n",
              "      <th></th>\n",
              "      <th></th>\n",
              "      <th></th>\n",
              "      <th></th>\n",
              "      <th></th>\n",
              "      <th></th>\n",
              "      <th></th>\n",
              "      <th></th>\n",
              "      <th></th>\n",
              "      <th></th>\n",
              "      <th></th>\n",
              "      <th></th>\n",
              "      <th></th>\n",
              "      <th></th>\n",
              "      <th></th>\n",
              "      <th></th>\n",
              "      <th></th>\n",
              "      <th></th>\n",
              "      <th></th>\n",
              "      <th></th>\n",
              "      <th></th>\n",
              "      <th></th>\n",
              "      <th></th>\n",
              "      <th></th>\n",
              "      <th></th>\n",
              "      <th></th>\n",
              "      <th></th>\n",
              "      <th></th>\n",
              "      <th></th>\n",
              "      <th></th>\n",
              "      <th></th>\n",
              "      <th></th>\n",
              "      <th></th>\n",
              "      <th></th>\n",
              "      <th></th>\n",
              "      <th></th>\n",
              "      <th></th>\n",
              "      <th></th>\n",
              "      <th></th>\n",
              "      <th></th>\n",
              "      <th></th>\n",
              "      <th></th>\n",
              "      <th></th>\n",
              "      <th></th>\n",
              "      <th></th>\n",
              "      <th></th>\n",
              "      <th></th>\n",
              "      <th></th>\n",
              "      <th></th>\n",
              "      <th></th>\n",
              "      <th></th>\n",
              "      <th></th>\n",
              "      <th></th>\n",
              "      <th></th>\n",
              "      <th></th>\n",
              "      <th></th>\n",
              "      <th></th>\n",
              "      <th></th>\n",
              "      <th></th>\n",
              "      <th></th>\n",
              "      <th></th>\n",
              "      <th></th>\n",
              "      <th></th>\n",
              "    </tr>\n",
              "  </thead>\n",
              "  <tbody>\n",
              "    <tr>\n",
              "      <th>2017-12-11</th>\n",
              "      <td>125</td>\n",
              "      <td>-2.5</td>\n",
              "      <td>39</td>\n",
              "      <td>3.4</td>\n",
              "      <td>2000</td>\n",
              "      <td>-14.5</td>\n",
              "      <td>0.0</td>\n",
              "      <td>0.0</td>\n",
              "      <td>0.0</td>\n",
              "      <td>0</td>\n",
              "      <td>1</td>\n",
              "      <td>210.0</td>\n",
              "      <td>226.0</td>\n",
              "      <td>214.0</td>\n",
              "      <td>180.0</td>\n",
              "      <td>235.0</td>\n",
              "      <td>182.0</td>\n",
              "      <td>119.0</td>\n",
              "      <td>58.0</td>\n",
              "      <td>19.0</td>\n",
              "      <td>31.0</td>\n",
              "      <td>35.0</td>\n",
              "      <td>20.0</td>\n",
              "      <td>9.0</td>\n",
              "      <td>13.0</td>\n",
              "      <td>71.0</td>\n",
              "      <td>169.0</td>\n",
              "      <td>243.0</td>\n",
              "      <td>280.0</td>\n",
              "      <td>326.0</td>\n",
              "      <td>265.0</td>\n",
              "      <td>289.0</td>\n",
              "      <td>321.0</td>\n",
              "      <td>298.0</td>\n",
              "      <td>275.0</td>\n",
              "      <td>384.0</td>\n",
              "      <td>481.0</td>\n",
              "      <td>546.0</td>\n",
              "      <td>569.0</td>\n",
              "      <td>486.0</td>\n",
              "      <td>...</td>\n",
              "      <td>334.0</td>\n",
              "      <td>269.0</td>\n",
              "      <td>462.0</td>\n",
              "      <td>812.0</td>\n",
              "      <td>381.0</td>\n",
              "      <td>172.0</td>\n",
              "      <td>82.0</td>\n",
              "      <td>42.0</td>\n",
              "      <td>62.0</td>\n",
              "      <td>124.0</td>\n",
              "      <td>198.0</td>\n",
              "      <td>216.0</td>\n",
              "      <td>248.0</td>\n",
              "      <td>353.0</td>\n",
              "      <td>397.0</td>\n",
              "      <td>398.0</td>\n",
              "      <td>568.0</td>\n",
              "      <td>807.0</td>\n",
              "      <td>515.0</td>\n",
              "      <td>375.0</td>\n",
              "      <td>341.0</td>\n",
              "      <td>338.0</td>\n",
              "      <td>391.0</td>\n",
              "      <td>393.0</td>\n",
              "      <td>379.0</td>\n",
              "      <td>311.0</td>\n",
              "      <td>509.0</td>\n",
              "      <td>937.0</td>\n",
              "      <td>498.0</td>\n",
              "      <td>200.0</td>\n",
              "      <td>82.0</td>\n",
              "      <td>41.0</td>\n",
              "      <td>65.0</td>\n",
              "      <td>112.0</td>\n",
              "      <td>186.0</td>\n",
              "      <td>0</td>\n",
              "      <td>0.000000</td>\n",
              "      <td>1.000000</td>\n",
              "      <td>0.0</td>\n",
              "      <td>1.0</td>\n",
              "    </tr>\n",
              "    <tr>\n",
              "      <th>2017-12-11</th>\n",
              "      <td>111</td>\n",
              "      <td>-3.4</td>\n",
              "      <td>36</td>\n",
              "      <td>3.8</td>\n",
              "      <td>2000</td>\n",
              "      <td>-16.3</td>\n",
              "      <td>0.0</td>\n",
              "      <td>0.0</td>\n",
              "      <td>0.0</td>\n",
              "      <td>0</td>\n",
              "      <td>1</td>\n",
              "      <td>181.0</td>\n",
              "      <td>210.0</td>\n",
              "      <td>226.0</td>\n",
              "      <td>214.0</td>\n",
              "      <td>180.0</td>\n",
              "      <td>235.0</td>\n",
              "      <td>182.0</td>\n",
              "      <td>119.0</td>\n",
              "      <td>58.0</td>\n",
              "      <td>19.0</td>\n",
              "      <td>31.0</td>\n",
              "      <td>35.0</td>\n",
              "      <td>20.0</td>\n",
              "      <td>9.0</td>\n",
              "      <td>13.0</td>\n",
              "      <td>71.0</td>\n",
              "      <td>169.0</td>\n",
              "      <td>243.0</td>\n",
              "      <td>280.0</td>\n",
              "      <td>326.0</td>\n",
              "      <td>265.0</td>\n",
              "      <td>289.0</td>\n",
              "      <td>321.0</td>\n",
              "      <td>298.0</td>\n",
              "      <td>275.0</td>\n",
              "      <td>384.0</td>\n",
              "      <td>481.0</td>\n",
              "      <td>546.0</td>\n",
              "      <td>569.0</td>\n",
              "      <td>...</td>\n",
              "      <td>321.0</td>\n",
              "      <td>334.0</td>\n",
              "      <td>269.0</td>\n",
              "      <td>462.0</td>\n",
              "      <td>812.0</td>\n",
              "      <td>381.0</td>\n",
              "      <td>172.0</td>\n",
              "      <td>82.0</td>\n",
              "      <td>42.0</td>\n",
              "      <td>62.0</td>\n",
              "      <td>124.0</td>\n",
              "      <td>198.0</td>\n",
              "      <td>216.0</td>\n",
              "      <td>248.0</td>\n",
              "      <td>353.0</td>\n",
              "      <td>397.0</td>\n",
              "      <td>398.0</td>\n",
              "      <td>568.0</td>\n",
              "      <td>807.0</td>\n",
              "      <td>515.0</td>\n",
              "      <td>375.0</td>\n",
              "      <td>341.0</td>\n",
              "      <td>338.0</td>\n",
              "      <td>391.0</td>\n",
              "      <td>393.0</td>\n",
              "      <td>379.0</td>\n",
              "      <td>311.0</td>\n",
              "      <td>509.0</td>\n",
              "      <td>937.0</td>\n",
              "      <td>498.0</td>\n",
              "      <td>200.0</td>\n",
              "      <td>82.0</td>\n",
              "      <td>41.0</td>\n",
              "      <td>65.0</td>\n",
              "      <td>112.0</td>\n",
              "      <td>0</td>\n",
              "      <td>0.258819</td>\n",
              "      <td>0.965926</td>\n",
              "      <td>0.0</td>\n",
              "      <td>1.0</td>\n",
              "    </tr>\n",
              "    <tr>\n",
              "      <th>2017-12-11</th>\n",
              "      <td>67</td>\n",
              "      <td>-4.2</td>\n",
              "      <td>35</td>\n",
              "      <td>3.4</td>\n",
              "      <td>2000</td>\n",
              "      <td>-17.4</td>\n",
              "      <td>0.0</td>\n",
              "      <td>0.0</td>\n",
              "      <td>0.0</td>\n",
              "      <td>0</td>\n",
              "      <td>1</td>\n",
              "      <td>165.0</td>\n",
              "      <td>181.0</td>\n",
              "      <td>210.0</td>\n",
              "      <td>226.0</td>\n",
              "      <td>214.0</td>\n",
              "      <td>180.0</td>\n",
              "      <td>235.0</td>\n",
              "      <td>182.0</td>\n",
              "      <td>119.0</td>\n",
              "      <td>58.0</td>\n",
              "      <td>19.0</td>\n",
              "      <td>31.0</td>\n",
              "      <td>35.0</td>\n",
              "      <td>20.0</td>\n",
              "      <td>9.0</td>\n",
              "      <td>13.0</td>\n",
              "      <td>71.0</td>\n",
              "      <td>169.0</td>\n",
              "      <td>243.0</td>\n",
              "      <td>280.0</td>\n",
              "      <td>326.0</td>\n",
              "      <td>265.0</td>\n",
              "      <td>289.0</td>\n",
              "      <td>321.0</td>\n",
              "      <td>298.0</td>\n",
              "      <td>275.0</td>\n",
              "      <td>384.0</td>\n",
              "      <td>481.0</td>\n",
              "      <td>546.0</td>\n",
              "      <td>...</td>\n",
              "      <td>325.0</td>\n",
              "      <td>321.0</td>\n",
              "      <td>334.0</td>\n",
              "      <td>269.0</td>\n",
              "      <td>462.0</td>\n",
              "      <td>812.0</td>\n",
              "      <td>381.0</td>\n",
              "      <td>172.0</td>\n",
              "      <td>82.0</td>\n",
              "      <td>42.0</td>\n",
              "      <td>62.0</td>\n",
              "      <td>124.0</td>\n",
              "      <td>198.0</td>\n",
              "      <td>216.0</td>\n",
              "      <td>248.0</td>\n",
              "      <td>353.0</td>\n",
              "      <td>397.0</td>\n",
              "      <td>398.0</td>\n",
              "      <td>568.0</td>\n",
              "      <td>807.0</td>\n",
              "      <td>515.0</td>\n",
              "      <td>375.0</td>\n",
              "      <td>341.0</td>\n",
              "      <td>338.0</td>\n",
              "      <td>391.0</td>\n",
              "      <td>393.0</td>\n",
              "      <td>379.0</td>\n",
              "      <td>311.0</td>\n",
              "      <td>509.0</td>\n",
              "      <td>937.0</td>\n",
              "      <td>498.0</td>\n",
              "      <td>200.0</td>\n",
              "      <td>82.0</td>\n",
              "      <td>41.0</td>\n",
              "      <td>65.0</td>\n",
              "      <td>0</td>\n",
              "      <td>0.500000</td>\n",
              "      <td>0.866025</td>\n",
              "      <td>0.0</td>\n",
              "      <td>1.0</td>\n",
              "    </tr>\n",
              "    <tr>\n",
              "      <th>2017-12-11</th>\n",
              "      <td>45</td>\n",
              "      <td>-4.7</td>\n",
              "      <td>38</td>\n",
              "      <td>2.4</td>\n",
              "      <td>2000</td>\n",
              "      <td>-16.8</td>\n",
              "      <td>0.0</td>\n",
              "      <td>0.0</td>\n",
              "      <td>0.0</td>\n",
              "      <td>0</td>\n",
              "      <td>1</td>\n",
              "      <td>167.0</td>\n",
              "      <td>165.0</td>\n",
              "      <td>181.0</td>\n",
              "      <td>210.0</td>\n",
              "      <td>226.0</td>\n",
              "      <td>214.0</td>\n",
              "      <td>180.0</td>\n",
              "      <td>235.0</td>\n",
              "      <td>182.0</td>\n",
              "      <td>119.0</td>\n",
              "      <td>58.0</td>\n",
              "      <td>19.0</td>\n",
              "      <td>31.0</td>\n",
              "      <td>35.0</td>\n",
              "      <td>20.0</td>\n",
              "      <td>9.0</td>\n",
              "      <td>13.0</td>\n",
              "      <td>71.0</td>\n",
              "      <td>169.0</td>\n",
              "      <td>243.0</td>\n",
              "      <td>280.0</td>\n",
              "      <td>326.0</td>\n",
              "      <td>265.0</td>\n",
              "      <td>289.0</td>\n",
              "      <td>321.0</td>\n",
              "      <td>298.0</td>\n",
              "      <td>275.0</td>\n",
              "      <td>384.0</td>\n",
              "      <td>481.0</td>\n",
              "      <td>...</td>\n",
              "      <td>334.0</td>\n",
              "      <td>325.0</td>\n",
              "      <td>321.0</td>\n",
              "      <td>334.0</td>\n",
              "      <td>269.0</td>\n",
              "      <td>462.0</td>\n",
              "      <td>812.0</td>\n",
              "      <td>381.0</td>\n",
              "      <td>172.0</td>\n",
              "      <td>82.0</td>\n",
              "      <td>42.0</td>\n",
              "      <td>62.0</td>\n",
              "      <td>124.0</td>\n",
              "      <td>198.0</td>\n",
              "      <td>216.0</td>\n",
              "      <td>248.0</td>\n",
              "      <td>353.0</td>\n",
              "      <td>397.0</td>\n",
              "      <td>398.0</td>\n",
              "      <td>568.0</td>\n",
              "      <td>807.0</td>\n",
              "      <td>515.0</td>\n",
              "      <td>375.0</td>\n",
              "      <td>341.0</td>\n",
              "      <td>338.0</td>\n",
              "      <td>391.0</td>\n",
              "      <td>393.0</td>\n",
              "      <td>379.0</td>\n",
              "      <td>311.0</td>\n",
              "      <td>509.0</td>\n",
              "      <td>937.0</td>\n",
              "      <td>498.0</td>\n",
              "      <td>200.0</td>\n",
              "      <td>82.0</td>\n",
              "      <td>41.0</td>\n",
              "      <td>0</td>\n",
              "      <td>0.707107</td>\n",
              "      <td>0.707107</td>\n",
              "      <td>0.0</td>\n",
              "      <td>1.0</td>\n",
              "    </tr>\n",
              "    <tr>\n",
              "      <th>2017-12-11</th>\n",
              "      <td>44</td>\n",
              "      <td>-5.2</td>\n",
              "      <td>35</td>\n",
              "      <td>3.2</td>\n",
              "      <td>2000</td>\n",
              "      <td>-18.3</td>\n",
              "      <td>0.0</td>\n",
              "      <td>0.0</td>\n",
              "      <td>0.0</td>\n",
              "      <td>0</td>\n",
              "      <td>1</td>\n",
              "      <td>152.0</td>\n",
              "      <td>167.0</td>\n",
              "      <td>165.0</td>\n",
              "      <td>181.0</td>\n",
              "      <td>210.0</td>\n",
              "      <td>226.0</td>\n",
              "      <td>214.0</td>\n",
              "      <td>180.0</td>\n",
              "      <td>235.0</td>\n",
              "      <td>182.0</td>\n",
              "      <td>119.0</td>\n",
              "      <td>58.0</td>\n",
              "      <td>19.0</td>\n",
              "      <td>31.0</td>\n",
              "      <td>35.0</td>\n",
              "      <td>20.0</td>\n",
              "      <td>9.0</td>\n",
              "      <td>13.0</td>\n",
              "      <td>71.0</td>\n",
              "      <td>169.0</td>\n",
              "      <td>243.0</td>\n",
              "      <td>280.0</td>\n",
              "      <td>326.0</td>\n",
              "      <td>265.0</td>\n",
              "      <td>289.0</td>\n",
              "      <td>321.0</td>\n",
              "      <td>298.0</td>\n",
              "      <td>275.0</td>\n",
              "      <td>384.0</td>\n",
              "      <td>...</td>\n",
              "      <td>353.0</td>\n",
              "      <td>334.0</td>\n",
              "      <td>325.0</td>\n",
              "      <td>321.0</td>\n",
              "      <td>334.0</td>\n",
              "      <td>269.0</td>\n",
              "      <td>462.0</td>\n",
              "      <td>812.0</td>\n",
              "      <td>381.0</td>\n",
              "      <td>172.0</td>\n",
              "      <td>82.0</td>\n",
              "      <td>42.0</td>\n",
              "      <td>62.0</td>\n",
              "      <td>124.0</td>\n",
              "      <td>198.0</td>\n",
              "      <td>216.0</td>\n",
              "      <td>248.0</td>\n",
              "      <td>353.0</td>\n",
              "      <td>397.0</td>\n",
              "      <td>398.0</td>\n",
              "      <td>568.0</td>\n",
              "      <td>807.0</td>\n",
              "      <td>515.0</td>\n",
              "      <td>375.0</td>\n",
              "      <td>341.0</td>\n",
              "      <td>338.0</td>\n",
              "      <td>391.0</td>\n",
              "      <td>393.0</td>\n",
              "      <td>379.0</td>\n",
              "      <td>311.0</td>\n",
              "      <td>509.0</td>\n",
              "      <td>937.0</td>\n",
              "      <td>498.0</td>\n",
              "      <td>200.0</td>\n",
              "      <td>82.0</td>\n",
              "      <td>0</td>\n",
              "      <td>0.866025</td>\n",
              "      <td>0.500000</td>\n",
              "      <td>0.0</td>\n",
              "      <td>1.0</td>\n",
              "    </tr>\n",
              "  </tbody>\n",
              "</table>\n",
              "<p>5 rows × 178 columns</p>\n",
              "</div>"
            ],
            "text/plain": [
              "              Y  Temperature(°C)  ...  Weekday_sin  Weekday_cos\n",
              "Date                              ...                          \n",
              "2017-12-11  125             -2.5  ...          0.0          1.0\n",
              "2017-12-11  111             -3.4  ...          0.0          1.0\n",
              "2017-12-11   67             -4.2  ...          0.0          1.0\n",
              "2017-12-11   45             -4.7  ...          0.0          1.0\n",
              "2017-12-11   44             -5.2  ...          0.0          1.0\n",
              "\n",
              "[5 rows x 178 columns]"
            ]
          },
          "metadata": {},
          "execution_count": 4
        }
      ]
    },
    {
      "cell_type": "code",
      "metadata": {
        "id": "Fk3s67j_ZPMJ"
      },
      "source": [
        "X = df.iloc[:, 1:].values\n",
        "Y = df.iloc[:, [0]].values\n",
        "X_train, X_test, Y_train, Y_test = train_test_split(X, Y, test_size=0.25, random_state=0)"
      ],
      "execution_count": null,
      "outputs": []
    },
    {
      "cell_type": "markdown",
      "metadata": {
        "id": "W4vnYa3td0no"
      },
      "source": [
        "Deuxième régression linéaire"
      ]
    },
    {
      "cell_type": "code",
      "metadata": {
        "colab": {
          "base_uri": "https://localhost:8080/"
        },
        "id": "Hy-zxjE-ZclM",
        "outputId": "7b3747c7-2b36-4285-8de2-510325da5f89"
      },
      "source": [
        "# Fit regression model\n",
        "lr = LinearRegression().fit(X_train, Y_train)\n",
        "lr.coef_\n",
        "\n",
        "# Predict\n",
        "Y_prediction = lr.predict(X_test)\n",
        "\n",
        "from sklearn.metrics import r2_score\n",
        "from sklearn.metrics import mean_squared_error\n",
        "score = r2_score(Y_test, Y_prediction)\n",
        "print(\"r2 score is \", score)\n",
        "print(\"mean_sqrd_error is==\", mean_squared_error(Y_test, Y_prediction))\n",
        "print(\"root_mean_squared error of is==\", np.sqrt(mean_squared_error(Y_test, Y_prediction)))"
      ],
      "execution_count": null,
      "outputs": [
        {
          "output_type": "stream",
          "name": "stdout",
          "text": [
            "r2 score is  0.7506900680809023\n",
            "mean_sqrd_error is== 83788.6193284526\n",
            "root_mean_squared error of is== 289.4626389164111\n"
          ]
        }
      ]
    },
    {
      "cell_type": "markdown",
      "metadata": {
        "id": "Wqmv_IsFevzE"
      },
      "source": [
        "Deuxième regression tree"
      ]
    },
    {
      "cell_type": "code",
      "metadata": {
        "colab": {
          "base_uri": "https://localhost:8080/"
        },
        "id": "ynqo0vZAev8Q",
        "outputId": "13ac15ea-b9ff-4938-9c68-e3e1c19c276c"
      },
      "source": [
        "# Fit regression model\n",
        "regr = DecisionTreeRegressor(max_depth=10)\n",
        "regr.fit(X_train, Y_train)\n",
        "\n",
        "# Predict\n",
        "Y_prediction = regr.predict(X_test)\n",
        "\n",
        "score = r2_score(Y_test, Y_prediction)\n",
        "print(\"r2 score is \", score)\n",
        "print(\"mean_sqrd_error is==\", mean_squared_error(Y_test, Y_prediction))\n",
        "print(\"root_mean_squared error of is==\", np.sqrt(mean_squared_error(Y_test, Y_prediction)))"
      ],
      "execution_count": null,
      "outputs": [
        {
          "output_type": "stream",
          "name": "stdout",
          "text": [
            "r2 score is  0.744811569947711\n",
            "mean_sqrd_error is== 85764.27765266575\n",
            "root_mean_squared error of is== 292.85538692785855\n"
          ]
        }
      ]
    },
    {
      "cell_type": "markdown",
      "metadata": {
        "id": "OImgvtTEh-gz"
      },
      "source": [
        "Troisième traitement des données : prévision une heure à l'avance"
      ]
    },
    {
      "cell_type": "code",
      "source": [
        "import statsmodels.formula.api as smf\n",
        "import statsmodels.tsa.api as smt\n",
        "import statsmodels.api as sm\n",
        "\n",
        "def tsplot(y, lags=None, figsize=(12, 7), style='bmh'):\n",
        "    if not isinstance(y, pd.Series):\n",
        "        y = pd.Series(y)\n",
        "        \n",
        "    with plt.style.context(style):    \n",
        "        fig = plt.figure(figsize=figsize)\n",
        "        layout = (2, 2)\n",
        "        ts_ax = plt.subplot2grid(layout, (0, 0), colspan=2)\n",
        "        acf_ax = plt.subplot2grid(layout, (1, 0))\n",
        "        pacf_ax = plt.subplot2grid(layout, (1, 1))\n",
        "        \n",
        "        y.plot(ax=ts_ax)\n",
        "        p_value = sm.tsa.stattools.adfuller(y)[1]\n",
        "        ts_ax.set_title('Time Series Analysis Plots\\n Dickey-Fuller: p={0:.5f}'.format(p_value))\n",
        "        smt.graphics.plot_acf(y, lags=lags, ax=acf_ax)\n",
        "        smt.graphics.plot_pacf(y, lags=lags, ax=pacf_ax)\n",
        "        plt.tight_layout()\n",
        "\n",
        "tsplot(df['Y'], lags=24*8)"
      ],
      "metadata": {
        "colab": {
          "base_uri": "https://localhost:8080/",
          "height": 513
        },
        "id": "CGuM4T8ZGB7n",
        "outputId": "b1131320-711a-4da7-c3f1-055b25e046d0"
      },
      "execution_count": null,
      "outputs": [
        {
          "output_type": "display_data",
          "data": {
            "image/png": "[encoded data removed]",
            "text/plain": [
              "<Figure size 864x504 with 3 Axes>"
            ]
          },
          "metadata": {
            "needs_background": "light"
          }
        }
      ]
    },
    {
      "cell_type": "markdown",
      "source": [
        "D'après les graph d'autocorrelation, on remarque que les données temporelles sont périodique, on peut donc prendre en compte l'heure, le jour, la semaine.\n",
        "\n",
        "\n"
      ],
      "metadata": {
        "id": "VDQ_d3QsTrTm"
      }
    },
    {
      "cell_type": "code",
      "metadata": {
        "colab": {
          "base_uri": "https://localhost:8080/",
          "height": 385
        },
        "id": "lwRqt01wZ4l_",
        "outputId": "4f075f35-2993-4894-dd20-2a8f15664315"
      },
      "source": [
        "df = pd.DataFrame(sbdata.copy())\n",
        "\n",
        "#change le format de la date et la passe en index\n",
        "df['Date'] = pd.to_datetime(df['Date'], format='%d/%m/%Y')\n",
        "df.set_index('Date', inplace = True)\n",
        "df.rename(columns={'Rented Bike Count': 'Y'}, inplace=True)\n",
        "\n",
        "#on commence la dataset au premier lundi\n",
        "df = df[datetime(2017,12,4):datetime(2017,12,4)+timedelta(7*4*7)]\n",
        "#on ajoute du lag à 1h, un jour, et une semaine\n",
        "df[\"lag_1\"] = df['Y'].shift(1)\n",
        "df[\"lag_24\"] = df['Y'].shift(24)\n",
        "df[\"lag_168\"] = df['Y'].shift(24*7)\n",
        "\n",
        "df['Holiday'] = [1 if x=='Holiday' else 0 for x in df['Holiday'] ]\n",
        "df['Functioning Day'] = [1 if x=='Yes' else 0 for x in df['Functioning Day'] ]\n",
        "df['Weekday'] = pd.Categorical(pd.Series(df.index).dt.day_name(), categories=['Monday', 'Tuesday', \n",
        "             'Wednesday', 'Thursday', 'Friday', 'Saturday', 'Sunday'], ordered=True)\n",
        "df['Weekend'] = (df['Weekday'].cat.codes >= 5).astype(int)\n",
        "\n",
        "#les données temporelles sont cycliques, on peut donc les insérer avec leur sin et cos\n",
        "df['Hour_sin'] = np.sin(df['Hour']*(2.*np.pi/24))\n",
        "df['Hour_cos'] = np.cos(df['Hour']*(2.*np.pi/24))\n",
        "df['Weekday_sin'] = np.sin(df['Weekday'].cat.codes*(2.*np.pi/7))\n",
        "df['Weekday_cos'] = np.cos(df['Weekday'].cat.codes*(2.*np.pi/7))\n",
        "df.drop(['Hour', 'Seasons', 'Weekday'], axis=1, inplace=True)\n",
        "\n",
        "#on enlève la première semaine pour éviter les NaN des lags\n",
        "df = df.iloc[24*7:]\n",
        "df.head()"
      ],
      "execution_count": null,
      "outputs": [
        {
          "output_type": "execute_result",
          "data": {
            "text/html": [
              "\n",
              "  <div id=\"df-a97bdee1-ad13-4b02-8b84-9b325f2de416\">\n",
              "    <div class=\"colab-df-container\">\n",
              "      <div>\n",
              "<style scoped>\n",
              "    .dataframe tbody tr th:only-of-type {\n",
              "        vertical-align: middle;\n",
              "    }\n",
              "\n",
              "    .dataframe tbody tr th {\n",
              "        vertical-align: top;\n",
              "    }\n",
              "\n",
              "    .dataframe thead th {\n",
              "        text-align: right;\n",
              "    }\n",
              "</style>\n",
              "<table border=\"1\" class=\"dataframe\">\n",
              "  <thead>\n",
              "    <tr style=\"text-align: right;\">\n",
              "      <th></th>\n",
              "      <th>Y</th>\n",
              "      <th>Temperature(°C)</th>\n",
              "      <th>Humidity(%)</th>\n",
              "      <th>Wind speed (m/s)</th>\n",
              "      <th>Visibility (10m)</th>\n",
              "      <th>Dew point temperature(°C)</th>\n",
              "      <th>Solar Radiation (MJ/m2)</th>\n",
              "      <th>Rainfall(mm)</th>\n",
              "      <th>Snowfall (cm)</th>\n",
              "      <th>Holiday</th>\n",
              "      <th>Functioning Day</th>\n",
              "      <th>lag_1</th>\n",
              "      <th>lag_24</th>\n",
              "      <th>lag_168</th>\n",
              "      <th>Weekend</th>\n",
              "      <th>Hour_sin</th>\n",
              "      <th>Hour_cos</th>\n",
              "      <th>Weekday_sin</th>\n",
              "      <th>Weekday_cos</th>\n",
              "    </tr>\n",
              "    <tr>\n",
              "      <th>Date</th>\n",
              "      <th></th>\n",
              "      <th></th>\n",
              "      <th></th>\n",
              "      <th></th>\n",
              "      <th></th>\n",
              "      <th></th>\n",
              "      <th></th>\n",
              "      <th></th>\n",
              "      <th></th>\n",
              "      <th></th>\n",
              "      <th></th>\n",
              "      <th></th>\n",
              "      <th></th>\n",
              "      <th></th>\n",
              "      <th></th>\n",
              "      <th></th>\n",
              "      <th></th>\n",
              "      <th></th>\n",
              "      <th></th>\n",
              "    </tr>\n",
              "  </thead>\n",
              "  <tbody>\n",
              "    <tr>\n",
              "      <th>2017-12-11</th>\n",
              "      <td>125</td>\n",
              "      <td>-2.5</td>\n",
              "      <td>39</td>\n",
              "      <td>3.4</td>\n",
              "      <td>2000</td>\n",
              "      <td>-14.5</td>\n",
              "      <td>0.0</td>\n",
              "      <td>0.0</td>\n",
              "      <td>0.0</td>\n",
              "      <td>0</td>\n",
              "      <td>1</td>\n",
              "      <td>148.0</td>\n",
              "      <td>326.0</td>\n",
              "      <td>285.0</td>\n",
              "      <td>0</td>\n",
              "      <td>0.000000</td>\n",
              "      <td>1.000000</td>\n",
              "      <td>0.0</td>\n",
              "      <td>1.0</td>\n",
              "    </tr>\n",
              "    <tr>\n",
              "      <th>2017-12-11</th>\n",
              "      <td>111</td>\n",
              "      <td>-3.4</td>\n",
              "      <td>36</td>\n",
              "      <td>3.8</td>\n",
              "      <td>2000</td>\n",
              "      <td>-16.3</td>\n",
              "      <td>0.0</td>\n",
              "      <td>0.0</td>\n",
              "      <td>0.0</td>\n",
              "      <td>0</td>\n",
              "      <td>1</td>\n",
              "      <td>125.0</td>\n",
              "      <td>280.0</td>\n",
              "      <td>186.0</td>\n",
              "      <td>0</td>\n",
              "      <td>0.258819</td>\n",
              "      <td>0.965926</td>\n",
              "      <td>0.0</td>\n",
              "      <td>1.0</td>\n",
              "    </tr>\n",
              "    <tr>\n",
              "      <th>2017-12-11</th>\n",
              "      <td>67</td>\n",
              "      <td>-4.2</td>\n",
              "      <td>35</td>\n",
              "      <td>3.4</td>\n",
              "      <td>2000</td>\n",
              "      <td>-17.4</td>\n",
              "      <td>0.0</td>\n",
              "      <td>0.0</td>\n",
              "      <td>0.0</td>\n",
              "      <td>0</td>\n",
              "      <td>1</td>\n",
              "      <td>111.0</td>\n",
              "      <td>243.0</td>\n",
              "      <td>112.0</td>\n",
              "      <td>0</td>\n",
              "      <td>0.500000</td>\n",
              "      <td>0.866025</td>\n",
              "      <td>0.0</td>\n",
              "      <td>1.0</td>\n",
              "    </tr>\n",
              "    <tr>\n",
              "      <th>2017-12-11</th>\n",
              "      <td>45</td>\n",
              "      <td>-4.7</td>\n",
              "      <td>38</td>\n",
              "      <td>2.4</td>\n",
              "      <td>2000</td>\n",
              "      <td>-16.8</td>\n",
              "      <td>0.0</td>\n",
              "      <td>0.0</td>\n",
              "      <td>0.0</td>\n",
              "      <td>0</td>\n",
              "      <td>1</td>\n",
              "      <td>67.0</td>\n",
              "      <td>169.0</td>\n",
              "      <td>65.0</td>\n",
              "      <td>0</td>\n",
              "      <td>0.707107</td>\n",
              "      <td>0.707107</td>\n",
              "      <td>0.0</td>\n",
              "      <td>1.0</td>\n",
              "    </tr>\n",
              "    <tr>\n",
              "      <th>2017-12-11</th>\n",
              "      <td>44</td>\n",
              "      <td>-5.2</td>\n",
              "      <td>35</td>\n",
              "      <td>3.2</td>\n",
              "      <td>2000</td>\n",
              "      <td>-18.3</td>\n",
              "      <td>0.0</td>\n",
              "      <td>0.0</td>\n",
              "      <td>0.0</td>\n",
              "      <td>0</td>\n",
              "      <td>1</td>\n",
              "      <td>45.0</td>\n",
              "      <td>71.0</td>\n",
              "      <td>41.0</td>\n",
              "      <td>0</td>\n",
              "      <td>0.866025</td>\n",
              "      <td>0.500000</td>\n",
              "      <td>0.0</td>\n",
              "      <td>1.0</td>\n",
              "    </tr>\n",
              "  </tbody>\n",
              "</table>\n",
              "</div>\n",
              "      <button class=\"colab-df-convert\" onclick=\"convertToInteractive('df-a97bdee1-ad13-4b02-8b84-9b325f2de416')\"\n",
              "              title=\"Convert this dataframe to an interactive table.\"\n",
              "              style=\"display:none;\">\n",
              "        \n",
              "  <svg xmlns=\"http://www.w3.org/2000/svg\" height=\"24px\"viewBox=\"0 0 24 24\"\n",
              "       width=\"24px\">\n",
              "    <path d=\"M0 0h24v24H0V0z\" fill=\"none\"/>\n",
              "    <path d=\"M18.56 5.44l.94 2.06.94-2.06 2.06-.94-2.06-.94-.94-2.06-.94 2.06-2.06.94zm-11 1L8.5 8.5l.94-2.06 2.06-.94-2.06-.94L8.5 2.5l-.94 2.06-2.06.94zm10 10l.94 2.06.94-2.06 2.06-.94-2.06-.94-.94-2.06-.94 2.06-2.06.94z\"/><path d=\"M17.41 7.96l-1.37-1.37c-.4-.4-.92-.59-1.43-.59-.52 0-1.04.2-1.43.59L10.3 9.45l-7.72 7.72c-.78.78-.78 2.05 0 2.83L4 21.41c.39.39.9.59 1.41.59.51 0 1.02-.2 1.41-.59l7.78-7.78 2.81-2.81c.8-.78.8-2.07 0-2.86zM5.41 20L4 18.59l7.72-7.72 1.47 1.35L5.41 20z\"/>\n",
              "  </svg>\n",
              "      </button>\n",
              "      \n",
              "  <style>\n",
              "    .colab-df-container {\n",
              "      display:flex;\n",
              "      flex-wrap:wrap;\n",
              "      gap: 12px;\n",
              "    }\n",
              "\n",
              "    .colab-df-convert {\n",
              "      background-color: #E8F0FE;\n",
              "      border: none;\n",
              "      border-radius: 50%;\n",
              "      cursor: pointer;\n",
              "      display: none;\n",
              "      fill: #1967D2;\n",
              "      height: 32px;\n",
              "      padding: 0 0 0 0;\n",
              "      width: 32px;\n",
              "    }\n",
              "\n",
              "    .colab-df-convert:hover {\n",
              "      background-color: #E2EBFA;\n",
              "      box-shadow: 0px 1px 2px rgba(60, 64, 67, 0.3), 0px 1px 3px 1px rgba(60, 64, 67, 0.15);\n",
              "      fill: #174EA6;\n",
              "    }\n",
              "\n",
              "    [theme=dark] .colab-df-convert {\n",
              "      background-color: #3B4455;\n",
              "      fill: #D2E3FC;\n",
              "    }\n",
              "\n",
              "    [theme=dark] .colab-df-convert:hover {\n",
              "      background-color: #434B5C;\n",
              "      box-shadow: 0px 1px 3px 1px rgba(0, 0, 0, 0.15);\n",
              "      filter: drop-shadow(0px 1px 2px rgba(0, 0, 0, 0.3));\n",
              "      fill: #FFFFFF;\n",
              "    }\n",
              "  </style>\n",
              "\n",
              "      <script>\n",
              "        const buttonEl =\n",
              "          document.querySelector('#df-a97bdee1-ad13-4b02-8b84-9b325f2de416 button.colab-df-convert');\n",
              "        buttonEl.style.display =\n",
              "          google.colab.kernel.accessAllowed ? 'block' : 'none';\n",
              "\n",
              "        async function convertToInteractive(key) {\n",
              "          const element = document.querySelector('#df-a97bdee1-ad13-4b02-8b84-9b325f2de416');\n",
              "          const dataTable =\n",
              "            await google.colab.kernel.invokeFunction('convertToInteractive',\n",
              "                                                     [key], {});\n",
              "          if (!dataTable) return;\n",
              "\n",
              "          const docLinkHtml = 'Like what you see? Visit the ' +\n",
              "            '<a target=\"_blank\" href=https://colab.research.google.com/notebooks/data_table.ipynb>data table notebook</a>'\n",
              "            + ' to learn more about interactive tables.';\n",
              "          element.innerHTML = '';\n",
              "          dataTable['output_type'] = 'display_data';\n",
              "          await google.colab.output.renderOutput(dataTable, element);\n",
              "          const docLink = document.createElement('div');\n",
              "          docLink.innerHTML = docLinkHtml;\n",
              "          element.appendChild(docLink);\n",
              "        }\n",
              "      </script>\n",
              "    </div>\n",
              "  </div>\n",
              "  "
            ],
            "text/plain": [
              "              Y  Temperature(°C)  ...  Weekday_sin  Weekday_cos\n",
              "Date                              ...                          \n",
              "2017-12-11  125             -2.5  ...          0.0          1.0\n",
              "2017-12-11  111             -3.4  ...          0.0          1.0\n",
              "2017-12-11   67             -4.2  ...          0.0          1.0\n",
              "2017-12-11   45             -4.7  ...          0.0          1.0\n",
              "2017-12-11   44             -5.2  ...          0.0          1.0\n",
              "\n",
              "[5 rows x 19 columns]"
            ]
          },
          "metadata": {},
          "execution_count": 6
        }
      ]
    },
    {
      "cell_type": "code",
      "metadata": {
        "id": "DbSAltIomXcS"
      },
      "source": [
        "X = df.iloc[:, 1:].values\n",
        "Y = df.iloc[:, [0]].values\n",
        "X_train, X_test, Y_train, Y_test = train_test_split(X, Y, test_size=0.25, random_state=0)"
      ],
      "execution_count": null,
      "outputs": []
    },
    {
      "cell_type": "markdown",
      "metadata": {
        "id": "9CWuzTTNipAA"
      },
      "source": [
        "Troisième régression linéaire"
      ]
    },
    {
      "cell_type": "code",
      "metadata": {
        "colab": {
          "base_uri": "https://localhost:8080/"
        },
        "id": "lkiUxybfilqV",
        "outputId": "a3ea5c03-bdfa-436f-ef30-fd95ccda8d8d"
      },
      "source": [
        "# Fit regression model\n",
        "lr = LinearRegression().fit(X_train, Y_train)\n",
        "lr.coef_\n",
        "\n",
        "# Predict\n",
        "Y_prediction = lr.predict(X_test)\n",
        "\n",
        "score = r2_score(Y_test, Y_prediction)\n",
        "print(\"r2 score is \", score)\n",
        "print(\"mean_sqrd_error is==\", mean_squared_error(Y_test, Y_prediction))\n",
        "print(\"root_mean_squared error of is==\", np.sqrt(mean_squared_error(Y_test, Y_prediction)))"
      ],
      "execution_count": null,
      "outputs": [
        {
          "output_type": "stream",
          "name": "stdout",
          "text": [
            "r2 score is  0.8766872087267614\n",
            "mean_sqrd_error is== 41443.2287024777\n",
            "root_mean_squared error of is== 203.57610051889122\n"
          ]
        }
      ]
    },
    {
      "cell_type": "markdown",
      "metadata": {
        "id": "eaV0t7HmixRM"
      },
      "source": [
        "Troisième regression tree"
      ]
    },
    {
      "cell_type": "code",
      "metadata": {
        "colab": {
          "base_uri": "https://localhost:8080/"
        },
        "id": "NGMeGT4vaDB6",
        "outputId": "5fa88ff2-b1ad-41cb-e8a2-f5f83ea5decb"
      },
      "source": [
        "# Fit regression model\n",
        "regr = DecisionTreeRegressor(max_depth=10)\n",
        "regr.fit(X_train, Y_train)\n",
        "\n",
        "# Predict\n",
        "Y_prediction = regr.predict(X_test)\n",
        "\n",
        "score = r2_score(Y_test, Y_prediction)\n",
        "print(\"r2 score is \", score)\n",
        "print(\"mean_sqrd_error is==\", mean_squared_error(Y_test, Y_prediction))\n",
        "print(\"root_mean_squared error of is==\", np.sqrt(mean_squared_error(Y_test, Y_prediction)))"
      ],
      "execution_count": null,
      "outputs": [
        {
          "output_type": "stream",
          "name": "stdout",
          "text": [
            "r2 score is  0.8902471884917479\n",
            "mean_sqrd_error is== 36885.96147335399\n",
            "root_mean_squared error of is== 192.05718282155968\n"
          ]
        }
      ]
    },
    {
      "cell_type": "markdown",
      "source": [
        "On essaie la méthode du Random Forest"
      ],
      "metadata": {
        "id": "DJYQcfAZaNnk"
      }
    },
    {
      "cell_type": "code",
      "source": [
        "from sklearn.ensemble import RandomForestRegressor\n",
        "regr = RandomForestRegressor(max_depth=12, random_state=0).fit(X_train, Y_train)\n",
        "Y_prediction = regr.predict(X_test)\n",
        "score = r2_score(Y_test, Y_prediction)\n",
        "print(\"r2 score is \", score)\n",
        "print(\"mean_sqrd_error is==\", mean_squared_error(Y_test, Y_prediction))\n",
        "print(\"root_mean_squared error of is==\", np.sqrt(mean_squared_error(Y_test, Y_prediction)))"
      ],
      "metadata": {
        "colab": {
          "base_uri": "https://localhost:8080/"
        },
        "id": "VzLLuckY9OIL",
        "outputId": "e1881651-dc5c-4306-e124-58dc1da5a5f2"
      },
      "execution_count": null,
      "outputs": [
        {
          "output_type": "stream",
          "name": "stderr",
          "text": [
            "/usr/local/lib/python3.7/dist-packages/ipykernel_launcher.py:2: DataConversionWarning: A column-vector y was passed when a 1d array was expected. Please change the shape of y to (n_samples,), for example using ravel().\n",
            "  \n"
          ]
        },
        {
          "output_type": "stream",
          "name": "stdout",
          "text": [
            "r2 score is  0.9593082690476251\n",
            "mean_sqrd_error is== 13675.7646530133\n",
            "root_mean_squared error of is== 116.94342500975975\n"
          ]
        }
      ]
    },
    {
      "cell_type": "markdown",
      "source": [
        "On remarque une très nette amélioration du modèle. On souhaite à présent l'améliorer en optimisant les hyper paramètres."
      ],
      "metadata": {
        "id": "_Fdu90lnaUvO"
      }
    },
    {
      "cell_type": "code",
      "source": [
        "from sklearn.model_selection import GridSearchCV\n",
        "param_grid = {'max_depth': [1,2,3,4,5,6,7,8,9,10,11,12,13,14,15]}\n",
        "base_estimator = RandomForestRegressor(random_state=0)\n",
        "sh = GridSearchCV(base_estimator, param_grid, cv=5).fit(X_train, Y_train)\n",
        "\n",
        "Y_prediction = sh.predict(X_test)\n",
        "score = r2_score(Y_test, Y_prediction)\n",
        "print(\"r2 score is \", score)\n",
        "print(\"mean_sqrd_error is==\", mean_squared_error(Y_test, Y_prediction))\n",
        "print(\"root_mean_squared error of is==\", np.sqrt(mean_squared_error(Y_test, Y_prediction)))\n",
        "print(sh.best_estimator_)"
      ],
      "metadata": {
        "id": "io2VRqrQBZ_H"
      },
      "execution_count": null,
      "outputs": []
    },
    {
      "cell_type": "markdown",
      "source": [
        "La profondeur maximum recommandée est de 12."
      ],
      "metadata": {
        "id": "kBnzuEr5ag41"
      }
    },
    {
      "cell_type": "markdown",
      "source": [
        ""
      ],
      "metadata": {
        "id": "JJh-U4HRauld"
      }
    },
    {
      "cell_type": "markdown",
      "metadata": {
        "id": "AF_0D46Ni3g5"
      },
      "source": [
        "Et un jour à l'avance"
      ]
    },
    {
      "cell_type": "code",
      "metadata": {
        "id": "b6gJ4E_daR4d"
      },
      "source": [
        "X = np.concatenate((df.iloc[:, 1:11].values, df.iloc[:, 12:].values), axis=1)\n",
        "Y = df.iloc[:, [0]].values\n",
        "X_train, X_test, Y_train, Y_test = train_test_split(X, Y, test_size=0.25, random_state=0)"
      ],
      "execution_count": null,
      "outputs": []
    },
    {
      "cell_type": "code",
      "metadata": {
        "colab": {
          "base_uri": "https://localhost:8080/"
        },
        "id": "RN3I6GSDaVxh",
        "outputId": "5aa6a016-4629-4c67-f495-17798af394a3"
      },
      "source": [
        "# Fit regression model\n",
        "lr = LinearRegression().fit(X_train, Y_train)\n",
        "lr.coef_\n",
        "\n",
        "# Predict\n",
        "Y_prediction = lr.predict(X_test)\n",
        "\n",
        "score = r2_score(Y_test, Y_prediction)\n",
        "print(\"r2 score is \", score)\n",
        "print(\"mean_sqrd_error is==\", mean_squared_error(Y_test, Y_prediction))\n",
        "print(\"root_mean_squared error of is==\", np.sqrt(mean_squared_error(Y_test, Y_prediction)))"
      ],
      "execution_count": null,
      "outputs": [
        {
          "output_type": "stream",
          "name": "stdout",
          "text": [
            "r2 score is  0.7417315272176874\n",
            "mean_sqrd_error is== 86799.42505267012\n",
            "root_mean_squared error of is== 294.61742150231055\n"
          ]
        }
      ]
    },
    {
      "cell_type": "markdown",
      "metadata": {
        "id": "bwEUSvo0jDof"
      },
      "source": [
        "Et une semaine à l'avance"
      ]
    },
    {
      "cell_type": "code",
      "metadata": {
        "id": "n1fboZX7jGHk"
      },
      "source": [
        "X = np.concatenate((df.iloc[:, 1:11].values, df.iloc[:, 13:].values), axis=1)\n",
        "Y = df.iloc[:, [0]].values\n",
        "X_train, X_test, Y_train, Y_test = train_test_split(X, Y, test_size=0.25, random_state=0)"
      ],
      "execution_count": null,
      "outputs": []
    },
    {
      "cell_type": "code",
      "metadata": {
        "colab": {
          "base_uri": "https://localhost:8080/"
        },
        "id": "AX5-uFnbjGaV",
        "outputId": "793064c1-0122-4982-9c57-500f1e2c0692"
      },
      "source": [
        "# Fit regression model\n",
        "lr = LinearRegression().fit(X_train, Y_train)\n",
        "lr.coef_\n",
        "\n",
        "# Predict\n",
        "Y_prediction = lr.predict(X_test)\n",
        "\n",
        "score = r2_score(Y_test, Y_prediction)\n",
        "print(\"r2 score is \", score)\n",
        "print(\"mean_sqrd_error is==\", mean_squared_error(Y_test, Y_prediction))\n",
        "print(\"root_mean_squared error of is==\", np.sqrt(mean_squared_error(Y_test, Y_prediction)))"
      ],
      "execution_count": null,
      "outputs": [
        {
          "output_type": "stream",
          "name": "stdout",
          "text": [
            "r2 score is  0.7031015066252599\n",
            "mean_sqrd_error is== 99782.28564371762\n",
            "root_mean_squared error of is== 315.88334182688016\n"
          ]
        }
      ]
    },
    {
      "cell_type": "markdown",
      "source": [
        "# TEST AVEC DEW POINT EN MOINS "
      ],
      "metadata": {
        "id": "esR1fZovTX9Q"
      }
    },
    {
      "cell_type": "code",
      "source": [
        "df = pd.DataFrame(sbdata.copy())\n",
        "del df['Dew point temperature(°C)']\n",
        "#change le format de la date et la passe en index\n",
        "df['Date'] = pd.to_datetime(df['Date'], format='%d/%m/%Y')\n",
        "df.set_index('Date', inplace = True)\n",
        "df.rename(columns={'Rented Bike Count': 'Y'}, inplace=True)\n",
        "\n",
        "#on commence la dataset au premier lundi\n",
        "df = df[datetime(2017,12,4):datetime(2017,12,4)+timedelta(7*4*7)]\n",
        "#on ajoute du lag à 1h, un jour, et une semaine\n",
        "df[\"lag_1\"] = df['Y'].shift(1)\n",
        "df[\"lag_24\"] = df['Y'].shift(24)\n",
        "df[\"lag_168\"] = df['Y'].shift(24*7)\n",
        "\n",
        "df['Holiday'] = [1 if x=='Holiday' else 0 for x in df['Holiday'] ]\n",
        "df['Functioning Day'] = [1 if x=='Yes' else 0 for x in df['Functioning Day'] ]\n",
        "df['Weekday'] = pd.Categorical(pd.Series(df.index).dt.day_name(), categories=['Monday', 'Tuesday', \n",
        "             'Wednesday', 'Thursday', 'Friday', 'Saturday', 'Sunday'], ordered=True)\n",
        "df['Weekend'] = (df['Weekday'].cat.codes >= 5).astype(int)\n",
        "\n",
        "#les données temporelles sont cycliques, on peut donc les insérer avec leur sin et cos\n",
        "df['Hour_sin'] = np.sin(df['Hour']*(2.*np.pi/24))\n",
        "df['Hour_cos'] = np.cos(df['Hour']*(2.*np.pi/24))\n",
        "df['Weekday_sin'] = np.sin(df['Weekday'].cat.codes*(2.*np.pi/7))\n",
        "df['Weekday_cos'] = np.cos(df['Weekday'].cat.codes*(2.*np.pi/7))\n",
        "df.drop(['Hour', 'Seasons', 'Weekday'], axis=1, inplace=True)\n",
        "\n",
        "#on enlève la première semaine pour éviter les NaN des lags\n",
        "df = df.iloc[24*7:]\n",
        "df.head()"
      ],
      "metadata": {
        "colab": {
          "base_uri": "https://localhost:8080/",
          "height": 237
        },
        "id": "UoXtYF8MTdRR",
        "outputId": "f6ecbee6-ad81-47d5-cfef-bda6cbf96f67"
      },
      "execution_count": null,
      "outputs": [
        {
          "output_type": "execute_result",
          "data": {
            "text/html": [
              "<div>\n",
              "<style scoped>\n",
              "    .dataframe tbody tr th:only-of-type {\n",
              "        vertical-align: middle;\n",
              "    }\n",
              "\n",
              "    .dataframe tbody tr th {\n",
              "        vertical-align: top;\n",
              "    }\n",
              "\n",
              "    .dataframe thead th {\n",
              "        text-align: right;\n",
              "    }\n",
              "</style>\n",
              "<table border=\"1\" class=\"dataframe\">\n",
              "  <thead>\n",
              "    <tr style=\"text-align: right;\">\n",
              "      <th></th>\n",
              "      <th>Y</th>\n",
              "      <th>Temperature(°C)</th>\n",
              "      <th>Humidity(%)</th>\n",
              "      <th>Wind speed (m/s)</th>\n",
              "      <th>Visibility (10m)</th>\n",
              "      <th>Solar Radiation (MJ/m2)</th>\n",
              "      <th>Rainfall(mm)</th>\n",
              "      <th>Snowfall (cm)</th>\n",
              "      <th>Holiday</th>\n",
              "      <th>Functioning Day</th>\n",
              "      <th>lag_1</th>\n",
              "      <th>lag_24</th>\n",
              "      <th>lag_168</th>\n",
              "      <th>Weekend</th>\n",
              "      <th>Hour_sin</th>\n",
              "      <th>Hour_cos</th>\n",
              "      <th>Weekday_sin</th>\n",
              "      <th>Weekday_cos</th>\n",
              "    </tr>\n",
              "    <tr>\n",
              "      <th>Date</th>\n",
              "      <th></th>\n",
              "      <th></th>\n",
              "      <th></th>\n",
              "      <th></th>\n",
              "      <th></th>\n",
              "      <th></th>\n",
              "      <th></th>\n",
              "      <th></th>\n",
              "      <th></th>\n",
              "      <th></th>\n",
              "      <th></th>\n",
              "      <th></th>\n",
              "      <th></th>\n",
              "      <th></th>\n",
              "      <th></th>\n",
              "      <th></th>\n",
              "      <th></th>\n",
              "      <th></th>\n",
              "    </tr>\n",
              "  </thead>\n",
              "  <tbody>\n",
              "    <tr>\n",
              "      <th>2017-12-11</th>\n",
              "      <td>125</td>\n",
              "      <td>-2.5</td>\n",
              "      <td>39</td>\n",
              "      <td>3.4</td>\n",
              "      <td>2000</td>\n",
              "      <td>0.0</td>\n",
              "      <td>0.0</td>\n",
              "      <td>0.0</td>\n",
              "      <td>0</td>\n",
              "      <td>1</td>\n",
              "      <td>148.0</td>\n",
              "      <td>326.0</td>\n",
              "      <td>285.0</td>\n",
              "      <td>0</td>\n",
              "      <td>0.000000</td>\n",
              "      <td>1.000000</td>\n",
              "      <td>0.0</td>\n",
              "      <td>1.0</td>\n",
              "    </tr>\n",
              "    <tr>\n",
              "      <th>2017-12-11</th>\n",
              "      <td>111</td>\n",
              "      <td>-3.4</td>\n",
              "      <td>36</td>\n",
              "      <td>3.8</td>\n",
              "      <td>2000</td>\n",
              "      <td>0.0</td>\n",
              "      <td>0.0</td>\n",
              "      <td>0.0</td>\n",
              "      <td>0</td>\n",
              "      <td>1</td>\n",
              "      <td>125.0</td>\n",
              "      <td>280.0</td>\n",
              "      <td>186.0</td>\n",
              "      <td>0</td>\n",
              "      <td>0.258819</td>\n",
              "      <td>0.965926</td>\n",
              "      <td>0.0</td>\n",
              "      <td>1.0</td>\n",
              "    </tr>\n",
              "    <tr>\n",
              "      <th>2017-12-11</th>\n",
              "      <td>67</td>\n",
              "      <td>-4.2</td>\n",
              "      <td>35</td>\n",
              "      <td>3.4</td>\n",
              "      <td>2000</td>\n",
              "      <td>0.0</td>\n",
              "      <td>0.0</td>\n",
              "      <td>0.0</td>\n",
              "      <td>0</td>\n",
              "      <td>1</td>\n",
              "      <td>111.0</td>\n",
              "      <td>243.0</td>\n",
              "      <td>112.0</td>\n",
              "      <td>0</td>\n",
              "      <td>0.500000</td>\n",
              "      <td>0.866025</td>\n",
              "      <td>0.0</td>\n",
              "      <td>1.0</td>\n",
              "    </tr>\n",
              "    <tr>\n",
              "      <th>2017-12-11</th>\n",
              "      <td>45</td>\n",
              "      <td>-4.7</td>\n",
              "      <td>38</td>\n",
              "      <td>2.4</td>\n",
              "      <td>2000</td>\n",
              "      <td>0.0</td>\n",
              "      <td>0.0</td>\n",
              "      <td>0.0</td>\n",
              "      <td>0</td>\n",
              "      <td>1</td>\n",
              "      <td>67.0</td>\n",
              "      <td>169.0</td>\n",
              "      <td>65.0</td>\n",
              "      <td>0</td>\n",
              "      <td>0.707107</td>\n",
              "      <td>0.707107</td>\n",
              "      <td>0.0</td>\n",
              "      <td>1.0</td>\n",
              "    </tr>\n",
              "    <tr>\n",
              "      <th>2017-12-11</th>\n",
              "      <td>44</td>\n",
              "      <td>-5.2</td>\n",
              "      <td>35</td>\n",
              "      <td>3.2</td>\n",
              "      <td>2000</td>\n",
              "      <td>0.0</td>\n",
              "      <td>0.0</td>\n",
              "      <td>0.0</td>\n",
              "      <td>0</td>\n",
              "      <td>1</td>\n",
              "      <td>45.0</td>\n",
              "      <td>71.0</td>\n",
              "      <td>41.0</td>\n",
              "      <td>0</td>\n",
              "      <td>0.866025</td>\n",
              "      <td>0.500000</td>\n",
              "      <td>0.0</td>\n",
              "      <td>1.0</td>\n",
              "    </tr>\n",
              "  </tbody>\n",
              "</table>\n",
              "</div>"
            ],
            "text/plain": [
              "              Y  Temperature(°C)  ...  Weekday_sin  Weekday_cos\n",
              "Date                              ...                          \n",
              "2017-12-11  125             -2.5  ...          0.0          1.0\n",
              "2017-12-11  111             -3.4  ...          0.0          1.0\n",
              "2017-12-11   67             -4.2  ...          0.0          1.0\n",
              "2017-12-11   45             -4.7  ...          0.0          1.0\n",
              "2017-12-11   44             -5.2  ...          0.0          1.0\n",
              "\n",
              "[5 rows x 18 columns]"
            ]
          },
          "metadata": {},
          "execution_count": 172
        }
      ]
    },
    {
      "cell_type": "code",
      "source": [
        "fig, ax = plt.subplots(figsize=(11,10))\n",
        "hmap = sns.heatmap(df.corr(),cmap=\"YlGnBu\")\n",
        "type(hmap)"
      ],
      "metadata": {
        "colab": {
          "base_uri": "https://localhost:8080/",
          "height": 721
        },
        "id": "yprrvnc2V7-q",
        "outputId": "64c2b629-5af2-41e8-fd7f-b09d0d546a48"
      },
      "execution_count": null,
      "outputs": [
        {
          "output_type": "execute_result",
          "data": {
            "text/plain": [
              "matplotlib.axes._subplots.AxesSubplot"
            ]
          },
          "metadata": {},
          "execution_count": 170
        },
        {
          "output_type": "display_data",
          "data": {
            "image/png": "[encoded data removed]",
            "text/plain": [
              "<Figure size 792x720 with 2 Axes>"
            ]
          },
          "metadata": {
            "needs_background": "light"
          }
        }
      ]
    },
    {
      "cell_type": "code",
      "source": [
        "X = df.iloc[:, 1:].values\n",
        "Y = df.iloc[:, [0]].values\n",
        "X_train, X_test, Y_train, Y_test = train_test_split(X, Y, test_size=0.25, random_state=0)"
      ],
      "metadata": {
        "id": "4OQ0aD6IVIRl"
      },
      "execution_count": null,
      "outputs": []
    },
    {
      "cell_type": "code",
      "source": [
        "from sklearn.metrics import r2_score\n",
        "from sklearn.metrics import mean_squared_error\n",
        "# Fit regression model\n",
        "lr = LinearRegression().fit(X_train, Y_train)\n",
        "lr.coef_\n",
        "\n",
        "# Predict\n",
        "Y_prediction = lr.predict(X_test)\n",
        "\n",
        "score = r2_score(Y_test, Y_prediction)\n",
        "print(\"r2 score is \", score)\n",
        "print(\"mean_sqrd_error is==\", mean_squared_error(Y_test, Y_prediction))\n",
        "print(\"root_mean_squared error of is==\", np.sqrt(mean_squared_error(Y_test, Y_prediction)))"
      ],
      "metadata": {
        "colab": {
          "base_uri": "https://localhost:8080/"
        },
        "id": "hq4eL4oXVRPm",
        "outputId": "eed66695-389f-44ec-abf7-a7400a58ab6d"
      },
      "execution_count": null,
      "outputs": [
        {
          "output_type": "stream",
          "name": "stdout",
          "text": [
            "r2 score is  0.889656010623801\n",
            "mean_sqrd_error is== 37084.64580554855\n",
            "root_mean_squared error of is== 192.57374121501755\n"
          ]
        }
      ]
    },
    {
      "cell_type": "markdown",
      "source": [
        "# Nouveau modèle :"
      ],
      "metadata": {
        "id": "kxcQts1nH3vU"
      }
    },
    {
      "cell_type": "code",
      "source": [
        "df = pd.DataFrame(sbdata.copy())\n",
        "\n",
        "\n",
        "#ajout d'une colonne avec la moyenne de température de la saison correspondante\n",
        "TW = df[df['Seasons']==\"Winter\"]['Temperature(°C)'].mean()\n",
        "TSP = df[df['Seasons']==\"Spring\"]['Temperature(°C)'].mean()\n",
        "TS = df[df['Seasons']==\"Summer\"]['Temperature(°C)'].mean()\n",
        "TA = df[df['Seasons']==\"Autumn\"]['Temperature(°C)'].mean()\n",
        "df.loc[df['Seasons'] =='Winter', 'TemperatureM'] = TW \n",
        "df.loc[df['Seasons'] =='Spring', 'TemperatureM'] = TSP\n",
        "df.loc[df['Seasons'] =='Summer', 'TemperatureM'] = TS\n",
        "df.loc[df['Seasons'] =='Autumn', 'TemperatureM'] = TA\n",
        "\n",
        "index = df[df['Functioning Day']==0].index\n",
        "df.drop(index, inplace=True)\n",
        "\n",
        "del df['Dew point temperature(°C)']\n",
        "#change le format de la date et la passe en index\n",
        "df['Date'] = pd.to_datetime(df['Date'], format='%d/%m/%Y')\n",
        "df.set_index('Date', inplace = True)\n",
        "df.rename(columns={'Rented Bike Count': 'Y'}, inplace=True)\n",
        "\n",
        "#on commence la dataset au premier lundi\n",
        "df = df[datetime(2017,12,4):datetime(2017,12,4)+timedelta(7*4*7)]\n",
        "#on ajoute du lag à 1h, un jour, et une semaine\n",
        "df[\"lag_1\"] = df['Y'].shift(1)\n",
        "df[\"lag_24\"] = df['Y'].shift(24)\n",
        "df[\"lag_168\"] = df['Y'].shift(24*7)\n",
        "\n",
        "df['Holiday'] = [1 if x=='Holiday' else 0 for x in df['Holiday'] ]\n",
        "df['Functioning Day'] = [1 if x=='Yes' else 0 for x in df['Functioning Day'] ]\n",
        "df['Weekday'] = pd.Categorical(pd.Series(df.index).dt.day_name(), categories=['Monday', 'Tuesday', \n",
        "             'Wednesday', 'Thursday', 'Friday', 'Saturday', 'Sunday'], ordered=True)\n",
        "df['Weekend'] = (df['Weekday'].cat.codes >= 5).astype(int)\n",
        "#df['Hour'] = pd.Series(pd.Series(df.index).dt.hour.values, index= df.index)\n",
        "\n",
        "#les données temporelles sont cycliques, on peut donc les insérer avec leur sin et cos\n",
        "df['Hour_sin'] = np.sin(df['Hour']*(2.*np.pi/24))\n",
        "df['Hour_cos'] = np.cos(df['Hour']*(2.*np.pi/24))\n",
        "df['Weekday_sin'] = np.sin(df['Weekday'].cat.codes*(2.*np.pi/7))\n",
        "df['Weekday_cos'] = np.cos(df['Weekday'].cat.codes*(2.*np.pi/7))\n",
        "df.drop([ 'Seasons', 'Weekday', 'Humidity(%)','Visibility (10m)'], axis=1, inplace=True)\n",
        "\n",
        "#on enlève la première semaine pour éviter les NaN des lags\n",
        "df = df.iloc[24*7:]"
      ],
      "metadata": {
        "id": "4jv28WHgKhvc"
      },
      "execution_count": null,
      "outputs": []
    },
    {
      "cell_type": "code",
      "source": [
        "fig, ax = plt.subplots(figsize=(11,10))\n",
        "hmap = sns.heatmap(df.corr(),cmap=\"YlGnBu\")\n",
        "type(hmap)"
      ],
      "metadata": {
        "colab": {
          "base_uri": "https://localhost:8080/",
          "height": 721
        },
        "id": "BR9x4G6kRIoj",
        "outputId": "20b79e7a-ae01-4e10-d5c0-c549d0adf885"
      },
      "execution_count": null,
      "outputs": [
        {
          "output_type": "execute_result",
          "data": {
            "text/plain": [
              "matplotlib.axes._subplots.AxesSubplot"
            ]
          },
          "metadata": {},
          "execution_count": 10
        },
        {
          "output_type": "display_data",
          "data": {
            "image/png": "[encoded data removed]",
            "text/plain": [
              "<Figure size 792x720 with 2 Axes>"
            ]
          },
          "metadata": {
            "needs_background": "light"
          }
        }
      ]
    },
    {
      "cell_type": "code",
      "source": [
        "X = df.iloc[:, 1:].values\n",
        "Y = df.iloc[:, [0]].values\n",
        "X_train, X_test, Y_train, Y_test = train_test_split(X, Y, test_size=0.25, random_state=0)"
      ],
      "metadata": {
        "id": "3VwyZga9QGjp"
      },
      "execution_count": null,
      "outputs": []
    },
    {
      "cell_type": "code",
      "source": [
        "regr = RandomForestRegressor(max_depth=12, random_state=0).fit(X_train, Y_train)\n",
        "Y_prediction = regr.predict(X_test)\n",
        "score = r2_score(Y_test, Y_prediction)\n",
        "print(\"r2 score is \", score)\n",
        "print(\"mean_sqrd_error is==\", mean_squared_error(Y_test, Y_prediction))\n",
        "print(\"root_mean_squared error of is==\", np.sqrt(mean_squared_error(Y_test, Y_prediction)))"
      ],
      "metadata": {
        "colab": {
          "base_uri": "https://localhost:8080/"
        },
        "id": "rzXyLiZYQJ5H",
        "outputId": "bf337030-fbec-4124-d6f2-1d072a592454"
      },
      "execution_count": null,
      "outputs": [
        {
          "output_type": "stream",
          "name": "stderr",
          "text": [
            "/usr/local/lib/python3.7/dist-packages/ipykernel_launcher.py:1: DataConversionWarning: A column-vector y was passed when a 1d array was expected. Please change the shape of y to (n_samples,), for example using ravel().\n",
            "  \"\"\"Entry point for launching an IPython kernel.\n"
          ]
        },
        {
          "output_type": "stream",
          "name": "stdout",
          "text": [
            "r2 score is  0.9613766422490039\n",
            "mean_sqrd_error is== 12980.621328936926\n",
            "root_mean_squared error of is== 113.93252972236212\n"
          ]
        }
      ]
    },
    {
      "cell_type": "code",
      "source": [
        "X = np.concatenate((df.iloc[:, 1:11].values, df.iloc[:, 12:].values), axis=1)\n",
        "Y = df.iloc[:, [0]].values\n",
        "X_train, X_test, Y_train, Y_test = train_test_split(X, Y, test_size=0.25, random_state=0)"
      ],
      "metadata": {
        "id": "cMLw6dSUQWRr"
      },
      "execution_count": null,
      "outputs": []
    },
    {
      "cell_type": "code",
      "source": [
        "regr = RandomForestRegressor(max_depth=12, random_state=0).fit(X_train, Y_train)\n",
        "Y_prediction = regr.predict(X_test)\n",
        "score = r2_score(Y_test, Y_prediction)\n",
        "print(\"r2 score is \", score)\n",
        "print(\"mean_sqrd_error is==\", mean_squared_error(Y_test, Y_prediction))\n",
        "print(\"root_mean_squared error of is==\", np.sqrt(mean_squared_error(Y_test, Y_prediction)))"
      ],
      "metadata": {
        "colab": {
          "base_uri": "https://localhost:8080/"
        },
        "id": "DIFKR3XFby-M",
        "outputId": "cb51ad54-b98d-4547-92aa-2272572341bb"
      },
      "execution_count": null,
      "outputs": [
        {
          "output_type": "stream",
          "name": "stderr",
          "text": [
            "/usr/local/lib/python3.7/dist-packages/ipykernel_launcher.py:1: DataConversionWarning: A column-vector y was passed when a 1d array was expected. Please change the shape of y to (n_samples,), for example using ravel().\n",
            "  \"\"\"Entry point for launching an IPython kernel.\n"
          ]
        },
        {
          "output_type": "stream",
          "name": "stdout",
          "text": [
            "r2 score is  0.9610749420764579\n",
            "mean_sqrd_error is== 13082.017373266937\n",
            "root_mean_squared error of is== 114.37664697510125\n"
          ]
        }
      ]
    },
    {
      "cell_type": "code",
      "source": [
        "X = np.concatenate((df.iloc[:, 1:11].values, df.iloc[:, 13:].values), axis=1)\n",
        "Y = df.iloc[:, [0]].values\n",
        "X_train, X_test, Y_train, Y_test = train_test_split(X, Y, test_size=0.25, random_state=0)"
      ],
      "metadata": {
        "id": "jwIykaNjQWzS"
      },
      "execution_count": null,
      "outputs": []
    },
    {
      "cell_type": "code",
      "source": [
        "regr = RandomForestRegressor(max_depth=12, random_state=0).fit(X_train, Y_train)\n",
        "Y_prediction = regr.predict(X_test)\n",
        "score = r2_score(Y_test, Y_prediction)\n",
        "print(\"r2 score is \", score)\n",
        "print(\"mean_sqrd_error is==\", mean_squared_error(Y_test, Y_prediction))\n",
        "print(\"root_mean_squared error of is==\", np.sqrt(mean_squared_error(Y_test, Y_prediction)))"
      ],
      "metadata": {
        "colab": {
          "base_uri": "https://localhost:8080/"
        },
        "id": "Wtc2EZSLbzVd",
        "outputId": "366465a2-84df-48c3-8e17-600377736a83"
      },
      "execution_count": null,
      "outputs": [
        {
          "output_type": "stream",
          "name": "stderr",
          "text": [
            "/usr/local/lib/python3.7/dist-packages/ipykernel_launcher.py:1: DataConversionWarning: A column-vector y was passed when a 1d array was expected. Please change the shape of y to (n_samples,), for example using ravel().\n",
            "  \"\"\"Entry point for launching an IPython kernel.\n"
          ]
        },
        {
          "output_type": "stream",
          "name": "stdout",
          "text": [
            "r2 score is  0.9601827206275986\n",
            "mean_sqrd_error is== 13381.87708105997\n",
            "root_mean_squared error of is== 115.68006345546311\n"
          ]
        }
      ]
    },
    {
      "cell_type": "markdown",
      "source": [
        "On obtient à présent une précision à 96% même une semaine à l'avance."
      ],
      "metadata": {
        "id": "0nRE4c1Bb69K"
      }
    }
  ]
}